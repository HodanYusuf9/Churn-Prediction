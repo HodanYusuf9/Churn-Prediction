{
 "cells": [
  {
   "cell_type": "markdown",
   "metadata": {},
   "source": [
    "# Churn Prediction Models on Bank Customers\n",
    "Project by Serap YALÇIN and Hodan YUSUF"
   ]
  },
  {
   "cell_type": "code",
   "execution_count": 1,
   "metadata": {},
   "outputs": [],
   "source": [
    "import pandas as pd\n",
    "import numpy as np\n",
    "import re\n",
    "from datetime import date\n",
    "import random\n",
    "import matplotlib.pyplot as plt\n",
    "import seaborn as sns\n",
    "from sklearn.preprocessing import StandardScaler\n",
    "from sklearn.preprocessing import MinMaxScaler\n",
    "from sklearn import preprocessing\n",
    "from sklearn import metrics\n",
    "from sklearn import linear_model\n",
    "from sklearn.model_selection import train_test_split\n",
    "from sklearn.linear_model import LogisticRegression\n",
    "from sklearn.ensemble import RandomForestClassifier\n",
    "from sklearn.tree import DecisionTreeClassifier\n",
    "from sklearn.ensemble import AdaBoostClassifier, BaggingClassifier\n",
    "from sklearn.model_selection import KFold\n",
    "from sklearn.model_selection import cross_val_score\n",
    "from sklearn.metrics import mean_squared_error\n",
    "from sklearn.metrics import accuracy_score, confusion_matrix, recall_score, precision_score, f1_score\n",
    "from sklearn.metrics import precision_recall_curve\n",
    "from sklearn.metrics import roc_curve, auc\n"
   ]
  },
  {
   "cell_type": "code",
   "execution_count": 2,
   "metadata": {},
   "outputs": [
    {
     "name": "stdout",
     "output_type": "stream",
     "text": [
      "Number of rows is 1952960\n"
     ]
    },
    {
     "data": {
      "text/html": [
       "<div>\n",
       "<style scoped>\n",
       "    .dataframe tbody tr th:only-of-type {\n",
       "        vertical-align: middle;\n",
       "    }\n",
       "\n",
       "    .dataframe tbody tr th {\n",
       "        vertical-align: top;\n",
       "    }\n",
       "\n",
       "    .dataframe thead th {\n",
       "        text-align: right;\n",
       "    }\n",
       "</style>\n",
       "<table border=\"1\" class=\"dataframe\">\n",
       "  <thead>\n",
       "    <tr style=\"text-align: right;\">\n",
       "      <th></th>\n",
       "      <th>0</th>\n",
       "      <th>1</th>\n",
       "      <th>2</th>\n",
       "      <th>3</th>\n",
       "      <th>4</th>\n",
       "      <th>5</th>\n",
       "      <th>6</th>\n",
       "      <th>7</th>\n",
       "      <th>8</th>\n",
       "      <th>9</th>\n",
       "      <th>...</th>\n",
       "      <th>14</th>\n",
       "      <th>15</th>\n",
       "      <th>16</th>\n",
       "      <th>17</th>\n",
       "      <th>18</th>\n",
       "      <th>19</th>\n",
       "      <th>20</th>\n",
       "      <th>21</th>\n",
       "      <th>22</th>\n",
       "      <th>23</th>\n",
       "    </tr>\n",
       "  </thead>\n",
       "  <tbody>\n",
       "    <tr>\n",
       "      <th>0</th>\n",
       "      <td>1</td>\n",
       "      <td>1</td>\n",
       "      <td>2016-01-22 15:03:33.343</td>\n",
       "      <td>Kayıt Onaylandı                               ...</td>\n",
       "      <td>1980-03-29 00:00:00</td>\n",
       "      <td>Yerli</td>\n",
       "      <td>Erkek                                         ...</td>\n",
       "      <td>Bosanmis                                      ...</td>\n",
       "      <td>P</td>\n",
       "      <td>0.0</td>\n",
       "      <td>...</td>\n",
       "      <td>3.37</td>\n",
       "      <td>0.0</td>\n",
       "      <td>0.0</td>\n",
       "      <td>0.0</td>\n",
       "      <td>0.0</td>\n",
       "      <td>0.0</td>\n",
       "      <td>0.0</td>\n",
       "      <td>0</td>\n",
       "      <td>0</td>\n",
       "      <td>0</td>\n",
       "    </tr>\n",
       "    <tr>\n",
       "      <th>1</th>\n",
       "      <td>2</td>\n",
       "      <td>2</td>\n",
       "      <td>2016-01-22 15:03:33.300</td>\n",
       "      <td>Kayıt Onaylandı                               ...</td>\n",
       "      <td>1991-02-12 00:00:00</td>\n",
       "      <td>Yerli</td>\n",
       "      <td>Erkek                                         ...</td>\n",
       "      <td>Bekar                                         ...</td>\n",
       "      <td>P</td>\n",
       "      <td>0.0</td>\n",
       "      <td>...</td>\n",
       "      <td>0.00</td>\n",
       "      <td>0.0</td>\n",
       "      <td>0.0</td>\n",
       "      <td>0.0</td>\n",
       "      <td>0.0</td>\n",
       "      <td>0.0</td>\n",
       "      <td>0.0</td>\n",
       "      <td>0</td>\n",
       "      <td>0</td>\n",
       "      <td>0</td>\n",
       "    </tr>\n",
       "    <tr>\n",
       "      <th>2</th>\n",
       "      <td>3</td>\n",
       "      <td>3</td>\n",
       "      <td>2016-01-22 15:03:33.250</td>\n",
       "      <td>Kayıt Onaylandı                               ...</td>\n",
       "      <td>1984-09-23 00:00:00</td>\n",
       "      <td>Yerli</td>\n",
       "      <td>Erkek                                         ...</td>\n",
       "      <td>Bekar                                         ...</td>\n",
       "      <td>P</td>\n",
       "      <td>0.0</td>\n",
       "      <td>...</td>\n",
       "      <td>0.20</td>\n",
       "      <td>0.0</td>\n",
       "      <td>0.0</td>\n",
       "      <td>0.0</td>\n",
       "      <td>0.0</td>\n",
       "      <td>0.0</td>\n",
       "      <td>0.0</td>\n",
       "      <td>3</td>\n",
       "      <td>0</td>\n",
       "      <td>0</td>\n",
       "    </tr>\n",
       "    <tr>\n",
       "      <th>3</th>\n",
       "      <td>4</td>\n",
       "      <td>4</td>\n",
       "      <td>2016-01-22 15:03:33.180</td>\n",
       "      <td>Kayıt Onaylandı                               ...</td>\n",
       "      <td>1971-10-01 00:00:00</td>\n",
       "      <td>Yerli</td>\n",
       "      <td>Erkek                                         ...</td>\n",
       "      <td>Evli                                          ...</td>\n",
       "      <td>P</td>\n",
       "      <td>0.0</td>\n",
       "      <td>...</td>\n",
       "      <td>0.17</td>\n",
       "      <td>0.0</td>\n",
       "      <td>0.0</td>\n",
       "      <td>0.0</td>\n",
       "      <td>0.0</td>\n",
       "      <td>0.0</td>\n",
       "      <td>0.0</td>\n",
       "      <td>0</td>\n",
       "      <td>0</td>\n",
       "      <td>0</td>\n",
       "    </tr>\n",
       "    <tr>\n",
       "      <th>4</th>\n",
       "      <td>5</td>\n",
       "      <td>5</td>\n",
       "      <td>2016-01-22 15:03:33.127</td>\n",
       "      <td>Kayıt Onaylandı                               ...</td>\n",
       "      <td>1985-09-10 00:00:00</td>\n",
       "      <td>Yerli</td>\n",
       "      <td>Erkek                                         ...</td>\n",
       "      <td>Bekar                                         ...</td>\n",
       "      <td>P</td>\n",
       "      <td>0.0</td>\n",
       "      <td>...</td>\n",
       "      <td>0.00</td>\n",
       "      <td>0.0</td>\n",
       "      <td>0.0</td>\n",
       "      <td>0.0</td>\n",
       "      <td>0.0</td>\n",
       "      <td>0.0</td>\n",
       "      <td>0.0</td>\n",
       "      <td>0</td>\n",
       "      <td>0</td>\n",
       "      <td>0</td>\n",
       "    </tr>\n",
       "  </tbody>\n",
       "</table>\n",
       "<p>5 rows × 24 columns</p>\n",
       "</div>"
      ],
      "text/plain": [
       "   0   1                        2   \\\n",
       "0   1   1  2016-01-22 15:03:33.343   \n",
       "1   2   2  2016-01-22 15:03:33.300   \n",
       "2   3   3  2016-01-22 15:03:33.250   \n",
       "3   4   4  2016-01-22 15:03:33.180   \n",
       "4   5   5  2016-01-22 15:03:33.127   \n",
       "\n",
       "                                                  3                    4   \\\n",
       "0  Kayıt Onaylandı                               ...  1980-03-29 00:00:00   \n",
       "1  Kayıt Onaylandı                               ...  1991-02-12 00:00:00   \n",
       "2  Kayıt Onaylandı                               ...  1984-09-23 00:00:00   \n",
       "3  Kayıt Onaylandı                               ...  1971-10-01 00:00:00   \n",
       "4  Kayıt Onaylandı                               ...  1985-09-10 00:00:00   \n",
       "\n",
       "      5                                                  6   \\\n",
       "0  Yerli  Erkek                                         ...   \n",
       "1  Yerli  Erkek                                         ...   \n",
       "2  Yerli  Erkek                                         ...   \n",
       "3  Yerli  Erkek                                         ...   \n",
       "4  Yerli  Erkek                                         ...   \n",
       "\n",
       "                                                  7  8    9   ...    14   15  \\\n",
       "0  Bosanmis                                      ...  P  0.0  ...  3.37  0.0   \n",
       "1  Bekar                                         ...  P  0.0  ...  0.00  0.0   \n",
       "2  Bekar                                         ...  P  0.0  ...  0.20  0.0   \n",
       "3  Evli                                          ...  P  0.0  ...  0.17  0.0   \n",
       "4  Bekar                                         ...  P  0.0  ...  0.00  0.0   \n",
       "\n",
       "    16   17   18   19   20  21  22  23  \n",
       "0  0.0  0.0  0.0  0.0  0.0   0   0   0  \n",
       "1  0.0  0.0  0.0  0.0  0.0   0   0   0  \n",
       "2  0.0  0.0  0.0  0.0  0.0   3   0   0  \n",
       "3  0.0  0.0  0.0  0.0  0.0   0   0   0  \n",
       "4  0.0  0.0  0.0  0.0  0.0   0   0   0  \n",
       "\n",
       "[5 rows x 24 columns]"
      ]
     },
     "execution_count": 2,
     "metadata": {},
     "output_type": "execute_result"
    }
   ],
   "source": [
    "#Data is consist of two part so lets merge them.\n",
    "\n",
    "data1 = pd.read_csv(\"C:\\\\Users\\\\budaks\\\\Desktop\\\\\\Güz 2019 YL\\\\Data Engineering\\\\Term Project\\\\Bank Project Data\\\\TrainTest1.csv\", sep=\";\", header=None)\n",
    "data2 = pd.read_csv(\"C:\\\\Users\\\\budaks\\\\Desktop\\\\\\Güz 2019 YL\\\\Data Engineering\\\\Term Project\\\\Bank Project Data\\\\TrainTest2.csv\", sep=\";\", header=None)\n",
    "\n",
    "data=pd.concat([data1, data2])\n",
    "\n",
    "print(\"Number of rows is\", len(data))\n",
    "\n",
    "data.head()"
   ]
  },
  {
   "cell_type": "code",
   "execution_count": 3,
   "metadata": {},
   "outputs": [
    {
     "name": "stdout",
     "output_type": "stream",
     "text": [
      "<class 'pandas.core.frame.DataFrame'>\n",
      "Int64Index: 1952960 entries, 0 to 952961\n",
      "Data columns (total 24 columns):\n",
      "0     int64\n",
      "1     int64\n",
      "2     object\n",
      "3     object\n",
      "4     object\n",
      "5     object\n",
      "6     object\n",
      "7     object\n",
      "8     object\n",
      "9     float64\n",
      "10    float64\n",
      "11    float64\n",
      "12    float64\n",
      "13    float64\n",
      "14    float64\n",
      "15    float64\n",
      "16    float64\n",
      "17    float64\n",
      "18    float64\n",
      "19    float64\n",
      "20    float64\n",
      "21    int64\n",
      "22    int64\n",
      "23    int64\n",
      "dtypes: float64(12), int64(5), object(7)\n",
      "memory usage: 372.5+ MB\n"
     ]
    }
   ],
   "source": [
    "data.info()"
   ]
  },
  {
   "cell_type": "code",
   "execution_count": 4,
   "metadata": {},
   "outputs": [],
   "source": [
    "#Define columns name.\n",
    "\n",
    "columns=[\"Row\",\"AccountNumber\",\"RecordingTime\",\"State\",\"BirthDate\",\"CitizenshipName\",\"GenderName\",\"MaritalStatusName\",\n",
    "         \"ValueSegment\",\"Risk201806\",\"Risk201812\",\"Risk201906\",\"Cari201806\",\"Cari201812\",\"Cari201906\",\n",
    "         \"Katilim201806\", \"Katilim201812\",\"Katilim201906\", \"Kart201806\",\"Kart201812\",\"Kart201906\",\n",
    "         \"AktifUrunSayisi201806\", \"AktifUrunSayisi201812\",\"AktifUrunSayisi201906\"]\n",
    "\n",
    "data.columns=columns"
   ]
  },
  {
   "cell_type": "code",
   "execution_count": 5,
   "metadata": {},
   "outputs": [
    {
     "name": "stdout",
     "output_type": "stream",
     "text": [
      "Number of rows is 1933005\n"
     ]
    },
    {
     "data": {
      "text/html": [
       "<div>\n",
       "<style scoped>\n",
       "    .dataframe tbody tr th:only-of-type {\n",
       "        vertical-align: middle;\n",
       "    }\n",
       "\n",
       "    .dataframe tbody tr th {\n",
       "        vertical-align: top;\n",
       "    }\n",
       "\n",
       "    .dataframe thead th {\n",
       "        text-align: right;\n",
       "    }\n",
       "</style>\n",
       "<table border=\"1\" class=\"dataframe\">\n",
       "  <thead>\n",
       "    <tr style=\"text-align: right;\">\n",
       "      <th></th>\n",
       "      <th>RecordingTime</th>\n",
       "      <th>State</th>\n",
       "      <th>BirthDate</th>\n",
       "      <th>CitizenshipName</th>\n",
       "      <th>GenderName</th>\n",
       "      <th>MaritalStatusName</th>\n",
       "      <th>ValueSegment</th>\n",
       "      <th>Risk201806</th>\n",
       "      <th>Risk201812</th>\n",
       "      <th>Risk201906</th>\n",
       "      <th>...</th>\n",
       "      <th>Cari201906</th>\n",
       "      <th>Katilim201806</th>\n",
       "      <th>Katilim201812</th>\n",
       "      <th>Katilim201906</th>\n",
       "      <th>Kart201806</th>\n",
       "      <th>Kart201812</th>\n",
       "      <th>Kart201906</th>\n",
       "      <th>AktifUrunSayisi201806</th>\n",
       "      <th>AktifUrunSayisi201812</th>\n",
       "      <th>AktifUrunSayisi201906</th>\n",
       "    </tr>\n",
       "  </thead>\n",
       "  <tbody>\n",
       "    <tr>\n",
       "      <th>0</th>\n",
       "      <td>2016-01-22 15:03:33.343</td>\n",
       "      <td>Kayıt Onaylandı                               ...</td>\n",
       "      <td>1980-03-29 00:00:00</td>\n",
       "      <td>Yerli</td>\n",
       "      <td>Erkek                                         ...</td>\n",
       "      <td>Bosanmis                                      ...</td>\n",
       "      <td>P</td>\n",
       "      <td>0.0</td>\n",
       "      <td>0.0</td>\n",
       "      <td>0.0</td>\n",
       "      <td>...</td>\n",
       "      <td>3.37</td>\n",
       "      <td>0.0</td>\n",
       "      <td>0.0</td>\n",
       "      <td>0.0</td>\n",
       "      <td>0.0</td>\n",
       "      <td>0.0</td>\n",
       "      <td>0.0</td>\n",
       "      <td>0</td>\n",
       "      <td>0</td>\n",
       "      <td>0</td>\n",
       "    </tr>\n",
       "    <tr>\n",
       "      <th>1</th>\n",
       "      <td>2016-01-22 15:03:33.300</td>\n",
       "      <td>Kayıt Onaylandı                               ...</td>\n",
       "      <td>1991-02-12 00:00:00</td>\n",
       "      <td>Yerli</td>\n",
       "      <td>Erkek                                         ...</td>\n",
       "      <td>Bekar                                         ...</td>\n",
       "      <td>P</td>\n",
       "      <td>0.0</td>\n",
       "      <td>0.0</td>\n",
       "      <td>0.0</td>\n",
       "      <td>...</td>\n",
       "      <td>0.00</td>\n",
       "      <td>0.0</td>\n",
       "      <td>0.0</td>\n",
       "      <td>0.0</td>\n",
       "      <td>0.0</td>\n",
       "      <td>0.0</td>\n",
       "      <td>0.0</td>\n",
       "      <td>0</td>\n",
       "      <td>0</td>\n",
       "      <td>0</td>\n",
       "    </tr>\n",
       "    <tr>\n",
       "      <th>2</th>\n",
       "      <td>2016-01-22 15:03:33.250</td>\n",
       "      <td>Kayıt Onaylandı                               ...</td>\n",
       "      <td>1984-09-23 00:00:00</td>\n",
       "      <td>Yerli</td>\n",
       "      <td>Erkek                                         ...</td>\n",
       "      <td>Bekar                                         ...</td>\n",
       "      <td>P</td>\n",
       "      <td>0.0</td>\n",
       "      <td>0.0</td>\n",
       "      <td>0.0</td>\n",
       "      <td>...</td>\n",
       "      <td>0.20</td>\n",
       "      <td>0.0</td>\n",
       "      <td>0.0</td>\n",
       "      <td>0.0</td>\n",
       "      <td>0.0</td>\n",
       "      <td>0.0</td>\n",
       "      <td>0.0</td>\n",
       "      <td>3</td>\n",
       "      <td>0</td>\n",
       "      <td>0</td>\n",
       "    </tr>\n",
       "    <tr>\n",
       "      <th>3</th>\n",
       "      <td>2016-01-22 15:03:33.180</td>\n",
       "      <td>Kayıt Onaylandı                               ...</td>\n",
       "      <td>1971-10-01 00:00:00</td>\n",
       "      <td>Yerli</td>\n",
       "      <td>Erkek                                         ...</td>\n",
       "      <td>Evli                                          ...</td>\n",
       "      <td>P</td>\n",
       "      <td>0.0</td>\n",
       "      <td>0.0</td>\n",
       "      <td>0.0</td>\n",
       "      <td>...</td>\n",
       "      <td>0.17</td>\n",
       "      <td>0.0</td>\n",
       "      <td>0.0</td>\n",
       "      <td>0.0</td>\n",
       "      <td>0.0</td>\n",
       "      <td>0.0</td>\n",
       "      <td>0.0</td>\n",
       "      <td>0</td>\n",
       "      <td>0</td>\n",
       "      <td>0</td>\n",
       "    </tr>\n",
       "    <tr>\n",
       "      <th>4</th>\n",
       "      <td>2016-01-22 15:03:33.127</td>\n",
       "      <td>Kayıt Onaylandı                               ...</td>\n",
       "      <td>1985-09-10 00:00:00</td>\n",
       "      <td>Yerli</td>\n",
       "      <td>Erkek                                         ...</td>\n",
       "      <td>Bekar                                         ...</td>\n",
       "      <td>P</td>\n",
       "      <td>0.0</td>\n",
       "      <td>0.0</td>\n",
       "      <td>0.0</td>\n",
       "      <td>...</td>\n",
       "      <td>0.00</td>\n",
       "      <td>0.0</td>\n",
       "      <td>0.0</td>\n",
       "      <td>0.0</td>\n",
       "      <td>0.0</td>\n",
       "      <td>0.0</td>\n",
       "      <td>0.0</td>\n",
       "      <td>0</td>\n",
       "      <td>0</td>\n",
       "      <td>0</td>\n",
       "    </tr>\n",
       "  </tbody>\n",
       "</table>\n",
       "<p>5 rows × 22 columns</p>\n",
       "</div>"
      ],
      "text/plain": [
       "             RecordingTime                                              State  \\\n",
       "0  2016-01-22 15:03:33.343  Kayıt Onaylandı                               ...   \n",
       "1  2016-01-22 15:03:33.300  Kayıt Onaylandı                               ...   \n",
       "2  2016-01-22 15:03:33.250  Kayıt Onaylandı                               ...   \n",
       "3  2016-01-22 15:03:33.180  Kayıt Onaylandı                               ...   \n",
       "4  2016-01-22 15:03:33.127  Kayıt Onaylandı                               ...   \n",
       "\n",
       "             BirthDate CitizenshipName  \\\n",
       "0  1980-03-29 00:00:00           Yerli   \n",
       "1  1991-02-12 00:00:00           Yerli   \n",
       "2  1984-09-23 00:00:00           Yerli   \n",
       "3  1971-10-01 00:00:00           Yerli   \n",
       "4  1985-09-10 00:00:00           Yerli   \n",
       "\n",
       "                                          GenderName  \\\n",
       "0  Erkek                                         ...   \n",
       "1  Erkek                                         ...   \n",
       "2  Erkek                                         ...   \n",
       "3  Erkek                                         ...   \n",
       "4  Erkek                                         ...   \n",
       "\n",
       "                                   MaritalStatusName ValueSegment  Risk201806  \\\n",
       "0  Bosanmis                                      ...            P         0.0   \n",
       "1  Bekar                                         ...            P         0.0   \n",
       "2  Bekar                                         ...            P         0.0   \n",
       "3  Evli                                          ...            P         0.0   \n",
       "4  Bekar                                         ...            P         0.0   \n",
       "\n",
       "   Risk201812  Risk201906  ...  Cari201906  Katilim201806  Katilim201812  \\\n",
       "0         0.0         0.0  ...        3.37            0.0            0.0   \n",
       "1         0.0         0.0  ...        0.00            0.0            0.0   \n",
       "2         0.0         0.0  ...        0.20            0.0            0.0   \n",
       "3         0.0         0.0  ...        0.17            0.0            0.0   \n",
       "4         0.0         0.0  ...        0.00            0.0            0.0   \n",
       "\n",
       "   Katilim201906  Kart201806  Kart201812  Kart201906  AktifUrunSayisi201806  \\\n",
       "0            0.0         0.0         0.0         0.0                      0   \n",
       "1            0.0         0.0         0.0         0.0                      0   \n",
       "2            0.0         0.0         0.0         0.0                      3   \n",
       "3            0.0         0.0         0.0         0.0                      0   \n",
       "4            0.0         0.0         0.0         0.0                      0   \n",
       "\n",
       "   AktifUrunSayisi201812  AktifUrunSayisi201906  \n",
       "0                      0                      0  \n",
       "1                      0                      0  \n",
       "2                      0                      0  \n",
       "3                      0                      0  \n",
       "4                      0                      0  \n",
       "\n",
       "[5 rows x 22 columns]"
      ]
     },
     "execution_count": 5,
     "metadata": {},
     "output_type": "execute_result"
    }
   ],
   "source": [
    "#Select necessary columns.\n",
    "\n",
    "data=data[[\"RecordingTime\",\"State\",\"BirthDate\",\"CitizenshipName\",\"GenderName\",\"MaritalStatusName\",\n",
    "         \"ValueSegment\",\"Risk201806\",\"Risk201812\",\"Risk201906\",\"Cari201806\",\"Cari201812\",\"Cari201906\",\n",
    "         \"Katilim201806\", \"Katilim201812\",\"Katilim201906\", \"Kart201806\",\"Kart201812\",\"Kart201906\",\n",
    "         \"AktifUrunSayisi201806\", \"AktifUrunSayisi201812\",\"AktifUrunSayisi201906\"]]\n",
    "\n",
    "#Deleted customers, in which both churn and not-churn class, are dropped from our dataset so that there are not in churn definitions. \n",
    "\n",
    "data=data[data[\"State\"]!=\"Silme Onaylandı                                                                                    \"]\n",
    "data=data[data[\"State\"]!=\"Silme Onay Bekliyor                                                                                \"]\n",
    "data=data[data[\"MaritalStatusName\"]!=\"Evliligin Feshi                                                                                    \"]\n",
    "data=data[data[\"MaritalStatusName\"]!=\"Diğer                                                                                              \"]\n",
    "data=data[data[\"MaritalStatusName\"]!=\"Evliligin iptali\"]\n",
    "\n",
    "#Drop nulls from data. Number of them is trivial. We still have about 1.9 million customers\n",
    "\n",
    "data=data.dropna()\n",
    "\n",
    "data=data.set_index(np.arange(0, len(data)), drop=False)\n",
    "\n",
    "print(\"Number of rows is\", len(data))\n",
    "data.head()\n"
   ]
  },
  {
   "cell_type": "code",
   "execution_count": 6,
   "metadata": {},
   "outputs": [
    {
     "data": {
      "text/html": [
       "<div>\n",
       "<style scoped>\n",
       "    .dataframe tbody tr th:only-of-type {\n",
       "        vertical-align: middle;\n",
       "    }\n",
       "\n",
       "    .dataframe tbody tr th {\n",
       "        vertical-align: top;\n",
       "    }\n",
       "\n",
       "    .dataframe thead th {\n",
       "        text-align: right;\n",
       "    }\n",
       "</style>\n",
       "<table border=\"1\" class=\"dataframe\">\n",
       "  <thead>\n",
       "    <tr style=\"text-align: right;\">\n",
       "      <th></th>\n",
       "      <th>RecordingTime</th>\n",
       "      <th>BirthDate</th>\n",
       "    </tr>\n",
       "  </thead>\n",
       "  <tbody>\n",
       "    <tr>\n",
       "      <th>0</th>\n",
       "      <td>2016-01-22</td>\n",
       "      <td>1980-03-29</td>\n",
       "    </tr>\n",
       "    <tr>\n",
       "      <th>1</th>\n",
       "      <td>2016-01-22</td>\n",
       "      <td>1991-02-12</td>\n",
       "    </tr>\n",
       "    <tr>\n",
       "      <th>2</th>\n",
       "      <td>2016-01-22</td>\n",
       "      <td>1984-09-23</td>\n",
       "    </tr>\n",
       "    <tr>\n",
       "      <th>3</th>\n",
       "      <td>2016-01-22</td>\n",
       "      <td>1971-10-01</td>\n",
       "    </tr>\n",
       "    <tr>\n",
       "      <th>4</th>\n",
       "      <td>2016-01-22</td>\n",
       "      <td>1985-09-10</td>\n",
       "    </tr>\n",
       "  </tbody>\n",
       "</table>\n",
       "</div>"
      ],
      "text/plain": [
       "  RecordingTime  BirthDate\n",
       "0    2016-01-22 1980-03-29\n",
       "1    2016-01-22 1991-02-12\n",
       "2    2016-01-22 1984-09-23\n",
       "3    2016-01-22 1971-10-01\n",
       "4    2016-01-22 1985-09-10"
      ]
     },
     "execution_count": 6,
     "metadata": {},
     "output_type": "execute_result"
    }
   ],
   "source": [
    "#RecordingTime and BirthDate are in string format so converting to date is significant.\n",
    "\n",
    "new_time = data[\"RecordingTime\"].str.split(\" \", n = 1, expand = True)\n",
    "\n",
    "data[\"RecordingTime\"]=new_time[0]\n",
    "data[\"RecordingTime\"]=pd.to_datetime(data[\"RecordingTime\"], format='%Y-%m-%d')\n",
    "\n",
    "new_date = data[\"BirthDate\"].str.split(\" \", n = 1, expand = True)\n",
    "data[\"BirthDate\"]=new_date[0]\n",
    "data[\"BirthDate\"]=pd.to_datetime(data[\"BirthDate\"], format='%Y-%m-%d')\n",
    "\n",
    "data[[\"RecordingTime\", \"BirthDate\"]].head()\n"
   ]
  },
  {
   "cell_type": "code",
   "execution_count": 7,
   "metadata": {},
   "outputs": [
    {
     "name": "stdout",
     "output_type": "stream",
     "text": [
      "<class 'pandas.core.frame.DataFrame'>\n",
      "Int64Index: 1933005 entries, 0 to 1933004\n",
      "Data columns (total 24 columns):\n",
      "RecordingTime            datetime64[ns]\n",
      "State                    object\n",
      "BirthDate                datetime64[ns]\n",
      "CitizenshipName          object\n",
      "GenderName               object\n",
      "MaritalStatusName        object\n",
      "ValueSegment             object\n",
      "Risk201806               float64\n",
      "Risk201812               float64\n",
      "Risk201906               float64\n",
      "Cari201806               float64\n",
      "Cari201812               float64\n",
      "Cari201906               float64\n",
      "Katilim201806            float64\n",
      "Katilim201812            float64\n",
      "Katilim201906            float64\n",
      "Kart201806               float64\n",
      "Kart201812               float64\n",
      "Kart201906               float64\n",
      "AktifUrunSayisi201806    int64\n",
      "AktifUrunSayisi201812    int64\n",
      "AktifUrunSayisi201906    int64\n",
      "Age                      int64\n",
      "Tenure                   int64\n",
      "dtypes: datetime64[ns](2), float64(12), int64(5), object(5)\n",
      "memory usage: 368.7+ MB\n"
     ]
    }
   ],
   "source": [
    "#Age and Tenure are calculated from RecordingTime and BirthDate.\n",
    "\n",
    "def calculate_age(born):\n",
    "    today = date.today()\n",
    "    return today.year - born.year\n",
    "\n",
    "Age=[]\n",
    "\n",
    "for i in data[\"BirthDate\"].index:\n",
    "    Age.append(calculate_age(data[\"BirthDate\"][i]))\n",
    "    \n",
    "data[\"Age\"]=Age\n",
    "\n",
    "Tenure=[]\n",
    "\n",
    "for i in data[\"RecordingTime\"].index:\n",
    "    Tenure.append(calculate_age(data[\"RecordingTime\"][i]))\n",
    "    \n",
    "data[\"Tenure\"]=Tenure\n",
    "\n",
    "data.info()"
   ]
  },
  {
   "cell_type": "code",
   "execution_count": 8,
   "metadata": {},
   "outputs": [
    {
     "name": "stdout",
     "output_type": "stream",
     "text": [
      "Number of rows of train data is 1686221\n"
     ]
    }
   ],
   "source": [
    "#Train data covers customers which are recorded between 2015-01-01 and 2019-01-01.\n",
    "#Test data covers customers which are recorded after 2015-01-01, in other words all customers in dataset.\n",
    "\n",
    "train_data=data[data[\"RecordingTime\"]<\"2019-01-01\"]\n",
    "\n",
    "train_data=train_data[[\"Tenure\",\"Age\",\"CitizenshipName\",\"GenderName\",\"MaritalStatusName\",\n",
    "                       \"ValueSegment\",\"Risk201806\",\"Risk201812\",\"Cari201806\",\"Cari201812\",\n",
    "                       \"Katilim201806\", \"Katilim201812\", \"Kart201806\",\"Kart201812\",\n",
    "                       \"AktifUrunSayisi201806\", \"AktifUrunSayisi201812\"]]\n",
    "\n",
    "print(\"Number of rows of train data is\", len(train_data))\n"
   ]
  },
  {
   "cell_type": "code",
   "execution_count": 9,
   "metadata": {},
   "outputs": [
    {
     "data": {
      "text/plain": [
       "1030472"
      ]
     },
     "execution_count": 9,
     "metadata": {},
     "output_type": "execute_result"
    }
   ],
   "source": [
    "#Create some churn definition based on value segment, loan, deposit, credit card, number of active products of customers.\n",
    "\n",
    "churn_def1_train=train_data[(train_data[\"ValueSegment\"]==\"P\") | (train_data[\"ValueSegment\"]==\"KP\") |\n",
    "                      ((train_data[\"Risk201806\"]>0) & (train_data[\"Risk201812\"]<100)) |\n",
    "                      ((train_data[\"Cari201806\"]>0) & (train_data[\"Cari201812\"]<100)) |\n",
    "                      ((train_data[\"Katilim201806\"]>0) & (train_data[\"Katilim201812\"]<250)) |\n",
    "                      ((train_data[\"Kart201806\"]>0) & (train_data[\"Kart201812\"]==0)) |\n",
    "                      ((train_data[\"AktifUrunSayisi201806\"]>0) & (train_data[\"AktifUrunSayisi201812\"]==0))]\n",
    "len(churn_def1_train)\n"
   ]
  },
  {
   "cell_type": "code",
   "execution_count": 10,
   "metadata": {},
   "outputs": [
    {
     "data": {
      "text/plain": [
       "655509"
      ]
     },
     "execution_count": 10,
     "metadata": {},
     "output_type": "execute_result"
    }
   ],
   "source": [
    "churn_def2_train=train_data[(train_data[\"ValueSegment\"]==\"KP\") |\n",
    "               ((train_data[\"Risk201806\"]>0) & (train_data[\"Risk201812\"]<100)) |\n",
    "               ((train_data[\"Cari201806\"]>0) & (train_data[\"Cari201812\"]<100)) |\n",
    "               ((train_data[\"Katilim201806\"]>0) & (train_data[\"Katilim201812\"]<250)) |\n",
    "               ((train_data[\"Kart201806\"]>0) & (train_data[\"Kart201812\"]==0)) |\n",
    "               ((train_data[\"AktifUrunSayisi201806\"]>0) & (train_data[\"AktifUrunSayisi201812\"]==0))]\n",
    "len(churn_def2_train)"
   ]
  },
  {
   "cell_type": "code",
   "execution_count": 11,
   "metadata": {},
   "outputs": [
    {
     "data": {
      "text/plain": [
       "191905"
      ]
     },
     "execution_count": 11,
     "metadata": {},
     "output_type": "execute_result"
    }
   ],
   "source": [
    "churn_def3_train=train_data[(train_data[\"ValueSegment\"]==\"KP\") |\n",
    "               ((train_data[\"Risk201806\"]>0) & (train_data[\"Risk201812\"]==0)) |\n",
    "               ((train_data[\"Cari201806\"]>0) & (train_data[\"Cari201812\"]==0)) |\n",
    "               ((train_data[\"Katilim201806\"]>0) & (train_data[\"Katilim201812\"]==0)) |\n",
    "               ((train_data[\"Kart201806\"]>0) & (train_data[\"Kart201812\"]==0)) |\n",
    "               ((train_data[\"AktifUrunSayisi201806\"]>0) & (train_data[\"AktifUrunSayisi201812\"]==0))]\n",
    "len(churn_def3_train)"
   ]
  },
  {
   "cell_type": "code",
   "execution_count": 12,
   "metadata": {},
   "outputs": [
    {
     "data": {
      "text/plain": [
       "655509"
      ]
     },
     "execution_count": 12,
     "metadata": {},
     "output_type": "execute_result"
    }
   ],
   "source": [
    "#Create Churn column and fill out by 0 or 1 according to selected churn definition, which is churn_def2.\n",
    "\n",
    "train_data[\"Churn\"]=0\n",
    "train_data[\"Churn\"]=np.where(train_data.isin(churn_def2_train), 1, 0)\n",
    "\n",
    "#Check number of churn customers based on churn definition.\n",
    "sum(train_data.Churn)"
   ]
  },
  {
   "cell_type": "code",
   "execution_count": 13,
   "metadata": {},
   "outputs": [
    {
     "data": {
      "image/png": "[encoded data removed]",
      "text/plain": [
       "<Figure size 432x288 with 1 Axes>"
      ]
     },
     "metadata": {},
     "output_type": "display_data"
    }
   ],
   "source": [
    "#Calculate and show churn rate in train data.\n",
    "\n",
    "sizes = train_data['Churn'].value_counts(sort = True)\n",
    "\n",
    "plt.pie(sizes, labels=[\"No\", \"Yes\"], autopct='%1.1f%%')\n",
    "plt.title('Churn Rate in Train Dataset', fontsize=15)\n",
    "plt.show()"
   ]
  },
  {
   "cell_type": "code",
   "execution_count": 14,
   "metadata": {},
   "outputs": [
    {
     "name": "stdout",
     "output_type": "stream",
     "text": [
      "Number of rows of test data is 1933005.\n"
     ]
    }
   ],
   "source": [
    "#Train data covers customers which exists between 2015-01-01 and 2019-01-01.\n",
    "#Test data covers customers which exists after 2015-01-01, in other words all customers in dataset.\n",
    "\n",
    "test_data=data[[\"Tenure\",\"Age\",\"CitizenshipName\",\"GenderName\",\"MaritalStatusName\",\n",
    "                \"ValueSegment\",\"Risk201812\",\"Risk201906\",\"Cari201812\",\"Cari201906\",\n",
    "                \"Katilim201812\",\"Katilim201906\",\"Kart201812\",\"Kart201906\",\n",
    "                \"AktifUrunSayisi201812\",\"AktifUrunSayisi201906\"]]\n",
    "print(\"Number of rows of test data is %d.\" % len(test_data))"
   ]
  },
  {
   "cell_type": "code",
   "execution_count": 15,
   "metadata": {},
   "outputs": [
    {
     "data": {
      "text/plain": [
       "820071"
      ]
     },
     "execution_count": 15,
     "metadata": {},
     "output_type": "execute_result"
    }
   ],
   "source": [
    "churn_def2_test=test_data[(test_data[\"ValueSegment\"]==\"KP\") |\n",
    "               ((test_data[\"Risk201812\"]>0) & (test_data[\"Risk201906\"]<100)) |\n",
    "               ((test_data[\"Cari201812\"]>0) & (test_data[\"Cari201906\"]<100)) |\n",
    "               ((test_data[\"Katilim201812\"]>0) & (test_data[\"Katilim201906\"]<250)) |\n",
    "               ((test_data[\"Kart201812\"]>0) & (test_data[\"Kart201906\"]==0)) |\n",
    "               ((test_data[\"AktifUrunSayisi201812\"]>0) & (test_data[\"AktifUrunSayisi201906\"]==0))]\n",
    "len(churn_def2_test)"
   ]
  },
  {
   "cell_type": "code",
   "execution_count": 16,
   "metadata": {},
   "outputs": [
    {
     "name": "stderr",
     "output_type": "stream",
     "text": [
      "C:\\Users\\budaks\\AppData\\Local\\Continuum\\anaconda3\\lib\\site-packages\\ipykernel_launcher.py:1: SettingWithCopyWarning: \n",
      "A value is trying to be set on a copy of a slice from a DataFrame.\n",
      "Try using .loc[row_indexer,col_indexer] = value instead\n",
      "\n",
      "See the caveats in the documentation: http://pandas.pydata.org/pandas-docs/stable/indexing.html#indexing-view-versus-copy\n",
      "  \"\"\"Entry point for launching an IPython kernel.\n",
      "C:\\Users\\budaks\\AppData\\Local\\Continuum\\anaconda3\\lib\\site-packages\\ipykernel_launcher.py:2: SettingWithCopyWarning: \n",
      "A value is trying to be set on a copy of a slice from a DataFrame.\n",
      "Try using .loc[row_indexer,col_indexer] = value instead\n",
      "\n",
      "See the caveats in the documentation: http://pandas.pydata.org/pandas-docs/stable/indexing.html#indexing-view-versus-copy\n",
      "  \n"
     ]
    },
    {
     "data": {
      "text/plain": [
       "820071"
      ]
     },
     "execution_count": 16,
     "metadata": {},
     "output_type": "execute_result"
    }
   ],
   "source": [
    "test_data[\"Churn\"]=0\n",
    "test_data[\"Churn\"]=np.where(test_data.isin(churn_def2_test), 1, 0)\n",
    "\n",
    "#Check number of churn customers based on churn definition.\n",
    "sum(test_data.Churn)"
   ]
  },
  {
   "cell_type": "code",
   "execution_count": 17,
   "metadata": {},
   "outputs": [
    {
     "data": {
      "image/png": "[encoded data removed]",
      "text/plain": [
       "<Figure size 432x288 with 1 Axes>"
      ]
     },
     "metadata": {},
     "output_type": "display_data"
    }
   ],
   "source": [
    "#Calculate and show churn rate in test data.\n",
    "\n",
    "sizes = test_data['Churn'].value_counts(sort = True)\n",
    "\n",
    "plt.pie(sizes, labels=[\"No\", \"Yes\"], autopct='%1.1f%%')\n",
    "plt.title('Churn Rate in Test Dataset', fontsize=15)\n",
    "plt.show()\n"
   ]
  },
  {
   "cell_type": "code",
   "execution_count": 18,
   "metadata": {},
   "outputs": [
    {
     "name": "stdout",
     "output_type": "stream",
     "text": [
      "Index(['Tenure', 'Age', 'Risk201806', 'Risk201812', 'Cari201806', 'Cari201812',\n",
      "       'Katilim201806', 'Katilim201812', 'Kart201806', 'Kart201812',\n",
      "       'AktifUrunSayisi201806', 'AktifUrunSayisi201812', 'Churn',\n",
      "       'CitizenshipName_Yerli',\n",
      "       'GenderName_Kadın                                                                                              ',\n",
      "       'MaritalStatusName_Bosanmis                                                                                           ',\n",
      "       'MaritalStatusName_Dul                                                                                                ',\n",
      "       'MaritalStatusName_Evli                                                                                               ',\n",
      "       'ValueSegment_A2', 'ValueSegment_B', 'ValueSegment_C', 'ValueSegment_D',\n",
      "       'ValueSegment_P'],\n",
      "      dtype='object')\n"
     ]
    }
   ],
   "source": [
    "#Since dataset is so large, we can sample randomly.\n",
    "\n",
    "def frac(dataframe, fraction, other_info=None):\n",
    "    return dataframe.sample(frac=fraction, random_state=12314)\n",
    "\n",
    "fraction=0.01\n",
    "sample_train_data=frac(train_data, fraction)\n",
    "sample_train_data=pd.get_dummies(sample_train_data, drop_first=True)\n",
    "print(sample_train_data.columns)\n"
   ]
  },
  {
   "cell_type": "code",
   "execution_count": 19,
   "metadata": {},
   "outputs": [
    {
     "name": "stdout",
     "output_type": "stream",
     "text": [
      "Index(['Tenure', 'Age', 'Risk201812', 'Risk201906', 'Cari201812', 'Cari201906',\n",
      "       'Katilim201812', 'Katilim201906', 'Kart201812', 'Kart201906',\n",
      "       'AktifUrunSayisi201812', 'AktifUrunSayisi201906', 'Churn',\n",
      "       'CitizenshipName_Yerli',\n",
      "       'GenderName_Kadın                                                                                              ',\n",
      "       'MaritalStatusName_Bosanmis                                                                                           ',\n",
      "       'MaritalStatusName_Dul                                                                                                ',\n",
      "       'MaritalStatusName_Evli                                                                                               ',\n",
      "       'ValueSegment_A2', 'ValueSegment_B', 'ValueSegment_C', 'ValueSegment_D',\n",
      "       'ValueSegment_P', 'ValueSegment_Y'],\n",
      "      dtype='object')\n"
     ]
    }
   ],
   "source": [
    "#Random sampling for test data\n",
    "sample_test_data=frac(test_data, fraction)\n",
    "sample_test_data=pd.get_dummies(sample_test_data, drop_first=True)\n",
    "print(sample_test_data.columns)"
   ]
  },
  {
   "cell_type": "code",
   "execution_count": 20,
   "metadata": {},
   "outputs": [
    {
     "data": {
      "image/png": "[encoded data removed]",
      "text/plain": [
       "<Figure size 432x288 with 1 Axes>"
      ]
     },
     "metadata": {},
     "output_type": "display_data"
    },
    {
     "data": {
      "image/png": "[encoded data removed]",
      "text/plain": [
       "<Figure size 432x288 with 1 Axes>"
      ]
     },
     "metadata": {},
     "output_type": "display_data"
    }
   ],
   "source": [
    "#Calculate and show churn rate in sample train and test data. These are similar with original data.\n",
    "\n",
    "sizes = sample_train_data['Churn'].value_counts(sort = True)\n",
    "\n",
    "plt.pie(sizes, labels=[\"No\", \"Yes\"], autopct='%1.1f%%')\n",
    "plt.title('Percentage of Churn in Sample Train Data', fontsize=15)\n",
    "plt.show()\n",
    "\n",
    "sizes = sample_test_data['Churn'].value_counts(sort = True)\n",
    "\n",
    "plt.pie(sizes, labels=[\"No\", \"Yes\"], autopct='%1.1f%%')\n",
    "plt.title('Percentage of Churn in Sample Test Data', fontsize=15)\n",
    "plt.show()"
   ]
  },
  {
   "cell_type": "code",
   "execution_count": 21,
   "metadata": {},
   "outputs": [
    {
     "data": {
      "text/plain": [
       "1.1463646068082078"
      ]
     },
     "execution_count": 21,
     "metadata": {},
     "output_type": "execute_result"
    }
   ],
   "source": [
    "#Test data is more than train data since number of customers was increasing by time.\n",
    "\n",
    "len(sample_test_data)/len(sample_train_data)"
   ]
  },
  {
   "cell_type": "code",
   "execution_count": 22,
   "metadata": {},
   "outputs": [],
   "source": [
    "#Define input and output of test and train sets.\n",
    "#ValueSegment_Y is only in test data due to new customers, so this column is also dropped.\n",
    "#Then, normalize all inputs.\n",
    "\n",
    "y_train=sample_train_data[\"Churn\"].values\n",
    "\n",
    "x_train=sample_train_data.drop(labels = [\"Risk201806\",\"Cari201806\",\"Katilim201806\", \"Kart201806\",\n",
    "                                         \"AktifUrunSayisi201806\",'ValueSegment_A2', 'ValueSegment_B', 'ValueSegment_C',\n",
    "                                         'ValueSegment_D', 'ValueSegment_P',\"Churn\"], axis = 1)\n",
    "\n",
    "x_train=preprocessing.normalize(x_train)\n",
    "\n",
    "\n",
    "#myscaler = MinMaxScaler()\n",
    "#myscaler.fit(x_train)\n",
    "#x_train = myscaler.transform(x_train)\n",
    "\n",
    "y_test=sample_test_data[\"Churn\"].values\n",
    "x_test=sample_test_data.drop(labels=[\"Risk201812\",\"Cari201812\",\"Katilim201812\",\"Kart201812\",\n",
    "                                     \"AktifUrunSayisi201812\",'ValueSegment_A2', 'ValueSegment_B', 'ValueSegment_C',\n",
    "                                     'ValueSegment_D', 'ValueSegment_P', 'ValueSegment_Y',\"Churn\"], axis=1)\n",
    "\n",
    "x_test=preprocessing.normalize(x_test)\n",
    "\n",
    "#myscaler = MinMaxScaler()\n",
    "#myscaler.fit(x_test)\n",
    "#x_test = myscaler.transform(x_test)"
   ]
  },
  {
   "cell_type": "code",
   "execution_count": 23,
   "metadata": {},
   "outputs": [
    {
     "name": "stdout",
     "output_type": "stream",
     "text": [
      "Parameters: [[ 8.08909466  9.35962371  9.34967036  7.10226781  8.46222559  0.76246595\n",
      "  -3.52334743 -0.4041367  -0.31691626  0.26922981 -0.20738747  0.91193301]]\n"
     ]
    },
    {
     "name": "stderr",
     "output_type": "stream",
     "text": [
      "C:\\Users\\budaks\\AppData\\Local\\Continuum\\anaconda3\\lib\\site-packages\\sklearn\\linear_model\\logistic.py:432: FutureWarning: Default solver will be changed to 'lbfgs' in 0.22. Specify a solver to silence this warning.\n",
      "  FutureWarning)\n"
     ]
    }
   ],
   "source": [
    "#Set up Logistic Regression model in order to classify churn customers.\n",
    "\n",
    "model_lr = LogisticRegression()\n",
    "result = model_lr.fit(x_train, y_train)\n",
    "\n",
    "parameters = model_lr.coef_\n",
    "\n",
    "print(\"Parameters:\", parameters)"
   ]
  },
  {
   "cell_type": "code",
   "execution_count": 24,
   "metadata": {},
   "outputs": [
    {
     "name": "stderr",
     "output_type": "stream",
     "text": [
      "C:\\Users\\budaks\\AppData\\Local\\Continuum\\anaconda3\\lib\\site-packages\\sklearn\\linear_model\\logistic.py:432: FutureWarning: Default solver will be changed to 'lbfgs' in 0.22. Specify a solver to silence this warning.\n",
      "  FutureWarning)\n",
      "C:\\Users\\budaks\\AppData\\Local\\Continuum\\anaconda3\\lib\\site-packages\\sklearn\\linear_model\\logistic.py:432: FutureWarning: Default solver will be changed to 'lbfgs' in 0.22. Specify a solver to silence this warning.\n",
      "  FutureWarning)\n",
      "C:\\Users\\budaks\\AppData\\Local\\Continuum\\anaconda3\\lib\\site-packages\\sklearn\\linear_model\\logistic.py:432: FutureWarning: Default solver will be changed to 'lbfgs' in 0.22. Specify a solver to silence this warning.\n",
      "  FutureWarning)\n",
      "C:\\Users\\budaks\\AppData\\Local\\Continuum\\anaconda3\\lib\\site-packages\\sklearn\\linear_model\\logistic.py:432: FutureWarning: Default solver will be changed to 'lbfgs' in 0.22. Specify a solver to silence this warning.\n",
      "  FutureWarning)\n",
      "C:\\Users\\budaks\\AppData\\Local\\Continuum\\anaconda3\\lib\\site-packages\\sklearn\\linear_model\\logistic.py:432: FutureWarning: Default solver will be changed to 'lbfgs' in 0.22. Specify a solver to silence this warning.\n",
      "  FutureWarning)\n",
      "C:\\Users\\budaks\\AppData\\Local\\Continuum\\anaconda3\\lib\\site-packages\\sklearn\\linear_model\\logistic.py:432: FutureWarning: Default solver will be changed to 'lbfgs' in 0.22. Specify a solver to silence this warning.\n",
      "  FutureWarning)\n",
      "C:\\Users\\budaks\\AppData\\Local\\Continuum\\anaconda3\\lib\\site-packages\\sklearn\\linear_model\\logistic.py:432: FutureWarning: Default solver will be changed to 'lbfgs' in 0.22. Specify a solver to silence this warning.\n",
      "  FutureWarning)\n",
      "C:\\Users\\budaks\\AppData\\Local\\Continuum\\anaconda3\\lib\\site-packages\\sklearn\\linear_model\\logistic.py:432: FutureWarning: Default solver will be changed to 'lbfgs' in 0.22. Specify a solver to silence this warning.\n",
      "  FutureWarning)\n",
      "C:\\Users\\budaks\\AppData\\Local\\Continuum\\anaconda3\\lib\\site-packages\\sklearn\\linear_model\\logistic.py:432: FutureWarning: Default solver will be changed to 'lbfgs' in 0.22. Specify a solver to silence this warning.\n",
      "  FutureWarning)\n"
     ]
    },
    {
     "name": "stdout",
     "output_type": "stream",
     "text": [
      "Cross validation scores: [0.77534084 0.7611144  0.74925904 0.75504152 0.77224199 0.75978648\n",
      " 0.77402135 0.76275208 0.75919336 0.76023739]\n",
      "Average of scores: %76\n"
     ]
    },
    {
     "name": "stderr",
     "output_type": "stream",
     "text": [
      "C:\\Users\\budaks\\AppData\\Local\\Continuum\\anaconda3\\lib\\site-packages\\sklearn\\linear_model\\logistic.py:432: FutureWarning: Default solver will be changed to 'lbfgs' in 0.22. Specify a solver to silence this warning.\n",
      "  FutureWarning)\n"
     ]
    }
   ],
   "source": [
    "#Cross validation \n",
    "\n",
    "cv = KFold(n_splits=10, shuffle=False, random_state=42)\n",
    "\n",
    "for train_index, test_index in cv.split(sample_train_data):\n",
    "    cv_x_train, cv_x_test = x_train[train_index], x_train[test_index]\n",
    "    cv_y_train, cv_y_test = y_train[train_index], y_train[test_index]\n",
    "\n",
    "cv_scores = cross_val_score(model_lr, x_train, y_train, cv=10)\n",
    "    \n",
    "print(\"Cross validation scores:\", cv_scores)\n",
    "print(\"Average of scores: %%%d\" % (np.mean(cv_scores*100)))"
   ]
  },
  {
   "cell_type": "code",
   "execution_count": 25,
   "metadata": {},
   "outputs": [
    {
     "name": "stdout",
     "output_type": "stream",
     "text": [
      "Accuracy score is %73.\n"
     ]
    }
   ],
   "source": [
    "#Test model and calculate accuracy.\n",
    "\n",
    "prediction = model_lr.predict(x_test)\n",
    "\n",
    "#Accuracy score is %73 which is an acceptable score.\n",
    "\n",
    "accuracy_lr = metrics.accuracy_score(y_test, prediction)*100\n",
    "\n",
    "print(\"Accuracy score is %%%d.\" % accuracy_lr)"
   ]
  },
  {
   "cell_type": "code",
   "execution_count": 26,
   "metadata": {},
   "outputs": [
    {
     "data": {
      "text/plain": [
       "<Figure size 432x288 with 0 Axes>"
      ]
     },
     "metadata": {},
     "output_type": "display_data"
    },
    {
     "data": {
      "image/png": "[encoded data removed]",
      "text/plain": [
       "<Figure size 504x504 with 2 Axes>"
      ]
     },
     "metadata": {
      "needs_background": "light"
     },
     "output_type": "display_data"
    }
   ],
   "source": [
    "#Confusion matrix\n",
    "\n",
    "cm = confusion_matrix(y_test, prediction)\n",
    "\n",
    "plt.clf()\n",
    "\n",
    "fig=plt.figure(figsize=(7,7))\n",
    "\n",
    "cax=plt.imshow(cm, interpolation='nearest', cmap=\"Blues\")\n",
    "\n",
    "fig.colorbar(cax)\n",
    "\n",
    "classNames = [\"Not Churn\",\"Churn\"]\n",
    "\n",
    "plt.title('Confusion Matrix of \\n Logistic Regression Classifier', pad=20, fontsize=20)\n",
    "\n",
    "plt.xlabel('Predicted', fontsize=15)\n",
    "plt.ylabel('Actual', fontsize=15)\n",
    "\n",
    "tick_marks = np.arange(len(classNames))\n",
    "\n",
    "plt.xticks(tick_marks, classNames, fontsize=12)\n",
    "plt.yticks(tick_marks, classNames, fontsize=12)\n",
    "\n",
    "s = [['TN','FP'], ['FN', 'TP']]\n",
    "\n",
    "for i in range(2):\n",
    "    for j in range(2):\n",
    "        plt.text(j,i, str(s[i][j])+\" = \"+str(cm[i][j]), horizontalalignment='center',verticalalignment='center',\n",
    "                 bbox=dict(facecolor='white'), fontsize=12)\n",
    "plt.show()\n"
   ]
  },
  {
   "cell_type": "code",
   "execution_count": 27,
   "metadata": {},
   "outputs": [
    {
     "name": "stdout",
     "output_type": "stream",
     "text": [
      "Precision score is 0.79.\n",
      "Recall score is 0.51.\n",
      "F1 score is 0.62.\n"
     ]
    }
   ],
   "source": [
    "#Calculate scores.\n",
    "\n",
    "print(\"Precision score is %.2f.\" % metrics.precision_score(y_test, prediction))\n",
    "print(\"Recall score is %.2f.\" % metrics.recall_score(y_test, prediction))\n",
    "print(\"F1 score is %.2f.\" % metrics.f1_score(y_test, prediction))"
   ]
  },
  {
   "cell_type": "code",
   "execution_count": 28,
   "metadata": {},
   "outputs": [
    {
     "data": {
      "image/png": "[encoded data removed]",
      "text/plain": [
       "<Figure size 432x288 with 1 Axes>"
      ]
     },
     "metadata": {
      "needs_background": "light"
     },
     "output_type": "display_data"
    }
   ],
   "source": [
    "#Plot the precision-recall curve for the model\n",
    "\n",
    "plt.plot([0, 1], [0.5, 0.5], linestyle='--')\n",
    "precision, recall, thresholds = precision_recall_curve(y_test, prediction)\n",
    "plt.plot(recall, precision, marker='.')\n",
    "plt.title(\"Precision-Recall Curve\", pad=20, fontsize=20)\n",
    "plt.show()"
   ]
  },
  {
   "cell_type": "code",
   "execution_count": 29,
   "metadata": {},
   "outputs": [
    {
     "name": "stdout",
     "output_type": "stream",
     "text": [
      "AUC: 0.71\n"
     ]
    }
   ],
   "source": [
    "#Calculate AUC value\n",
    "\n",
    "false_positive_rate, true_positive_rate, thresholds = roc_curve(y_test, prediction)\n",
    "roc_auc = auc(false_positive_rate, true_positive_rate)\n",
    "\n",
    "print('AUC: %.2f' % roc_auc)\n"
   ]
  },
  {
   "cell_type": "code",
   "execution_count": 30,
   "metadata": {},
   "outputs": [
    {
     "data": {
      "image/png": "[encoded data removed]",
      "text/plain": [
       "<Figure size 432x288 with 1 Axes>"
      ]
     },
     "metadata": {
      "needs_background": "light"
     },
     "output_type": "display_data"
    }
   ],
   "source": [
    "#Plot the ROC curve for the model\n",
    "\n",
    "plt.plot([0, 1], [0, 1], linestyle='--')\n",
    "plt.plot(false_positive_rate, true_positive_rate, marker='.')\n",
    "plt.title(\"ROC Curve\", pad=20, fontsize=20)\n",
    "plt.show()"
   ]
  },
  {
   "cell_type": "code",
   "execution_count": 31,
   "metadata": {},
   "outputs": [],
   "source": [
    "#Set up Decision Tree model in order to classify churn customers.\n",
    "\n",
    "model_dt = DecisionTreeClassifier()\n",
    "result = model_dt.fit(x_train, y_train)"
   ]
  },
  {
   "cell_type": "code",
   "execution_count": 32,
   "metadata": {},
   "outputs": [
    {
     "name": "stdout",
     "output_type": "stream",
     "text": [
      "Cross validation scores: [0.89093065 0.87611144 0.86366331 0.8683274  0.85883749 0.86654804\n",
      " 0.86002372 0.87781732 0.88493476 0.86824926]\n",
      "Average of scores: %87\n"
     ]
    }
   ],
   "source": [
    "#Cross validation \n",
    "\n",
    "cv = KFold(n_splits=10, shuffle=False, random_state=42)\n",
    "\n",
    "for train_index, test_index in cv.split(sample_train_data):\n",
    "    cv_x_train, cv_x_test = x_train[train_index], x_train[test_index]\n",
    "    cv_y_train, cv_y_test = y_train[train_index], y_train[test_index]\n",
    "    \n",
    "cv_scores = cross_val_score(model_dt, x_train, y_train, cv=10)\n",
    "    \n",
    "print(\"Cross validation scores:\", cv_scores)\n",
    "print(\"Average of scores: %%%d\" % (np.mean(cv_scores*100)))\n"
   ]
  },
  {
   "cell_type": "code",
   "execution_count": 33,
   "metadata": {},
   "outputs": [
    {
     "name": "stdout",
     "output_type": "stream",
     "text": [
      "Accuracy score is %81.\n"
     ]
    }
   ],
   "source": [
    "#Test model and calculate accuracy.\n",
    "\n",
    "prediction = model_dt.predict(x_test)\n",
    "\n",
    "#Accuracy score is %82 which is an acceptable score.\n",
    "\n",
    "accuracy_dt = metrics.accuracy_score(y_test, prediction)*100\n",
    "\n",
    "print(\"Accuracy score is %%%d.\" % accuracy_dt)\n"
   ]
  },
  {
   "cell_type": "code",
   "execution_count": 34,
   "metadata": {},
   "outputs": [
    {
     "data": {
      "text/plain": [
       "<Figure size 432x288 with 0 Axes>"
      ]
     },
     "metadata": {},
     "output_type": "display_data"
    },
    {
     "data": {
      "image/png": "[encoded data removed]",
      "text/plain": [
       "<Figure size 504x504 with 2 Axes>"
      ]
     },
     "metadata": {
      "needs_background": "light"
     },
     "output_type": "display_data"
    }
   ],
   "source": [
    "#Confusion matrix\n",
    "\n",
    "cm = confusion_matrix(y_test, prediction)\n",
    "\n",
    "plt.clf()\n",
    "\n",
    "fig=plt.figure(figsize=(7,7))\n",
    "\n",
    "cax=plt.imshow(cm, interpolation='nearest', cmap=\"Blues\")\n",
    "\n",
    "fig.colorbar(cax)\n",
    "\n",
    "classNames = [\"Not Churn\",\"Churn\"]\n",
    "\n",
    "plt.title('Confusion Matrix of \\n Decision Tree Classifier', pad=20, fontsize=20)\n",
    "\n",
    "plt.xlabel('Predicted', fontsize=15)\n",
    "plt.ylabel('Actual', fontsize=15)\n",
    "\n",
    "tick_marks = np.arange(len(classNames))\n",
    "\n",
    "plt.xticks(tick_marks, classNames, fontsize=12)\n",
    "plt.yticks(tick_marks, classNames, fontsize=12)\n",
    "\n",
    "s = [['TN','FP'], ['FN', 'TP']]\n",
    "\n",
    "for i in range(2):\n",
    "    for j in range(2):\n",
    "        plt.text(j,i, str(s[i][j])+\" = \"+str(cm[i][j]), horizontalalignment='center',verticalalignment='center',\n",
    "                 bbox=dict(facecolor='white'), fontsize=12)\n",
    "plt.show()\n"
   ]
  },
  {
   "cell_type": "code",
   "execution_count": 35,
   "metadata": {},
   "outputs": [
    {
     "name": "stdout",
     "output_type": "stream",
     "text": [
      "Precision score is 0.84.\n",
      "Recall score is 0.70.\n",
      "F1 score is 0.76.\n"
     ]
    }
   ],
   "source": [
    "#Calculate scores.\n",
    "\n",
    "print(\"Precision score is %.2f.\" % metrics.precision_score(y_test, prediction))\n",
    "print(\"Recall score is %.2f.\" % metrics.recall_score(y_test, prediction))\n",
    "print(\"F1 score is %.2f.\" % metrics.f1_score(y_test, prediction))\n"
   ]
  },
  {
   "cell_type": "code",
   "execution_count": 36,
   "metadata": {},
   "outputs": [
    {
     "data": {
      "image/png": "[encoded data removed]",
      "text/plain": [
       "<Figure size 432x288 with 1 Axes>"
      ]
     },
     "metadata": {
      "needs_background": "light"
     },
     "output_type": "display_data"
    }
   ],
   "source": [
    "#Plot the precision-recall curve for the model\n",
    "\n",
    "plt.plot([0, 1], [0.5, 0.5], linestyle='--')\n",
    "precision, recall, thresholds = precision_recall_curve(y_test, prediction)\n",
    "plt.plot(recall, precision, marker='.')\n",
    "plt.title(\"Precision-Recall Curve\", pad=20, fontsize=20)\n",
    "plt.show()"
   ]
  },
  {
   "cell_type": "code",
   "execution_count": 37,
   "metadata": {},
   "outputs": [
    {
     "name": "stdout",
     "output_type": "stream",
     "text": [
      "AUC: 0.80\n"
     ]
    }
   ],
   "source": [
    "#Calculate AUC value\n",
    "\n",
    "false_positive_rate, true_positive_rate, thresholds = roc_curve(y_test, prediction)\n",
    "roc_auc = auc(false_positive_rate, true_positive_rate)\n",
    "\n",
    "print('AUC: %.2f' % roc_auc)\n"
   ]
  },
  {
   "cell_type": "code",
   "execution_count": 38,
   "metadata": {},
   "outputs": [
    {
     "data": {
      "image/png": "[encoded data removed]",
      "text/plain": [
       "<Figure size 432x288 with 1 Axes>"
      ]
     },
     "metadata": {
      "needs_background": "light"
     },
     "output_type": "display_data"
    }
   ],
   "source": [
    "#Plot the ROC curve for the model\n",
    "\n",
    "plt.plot([0, 1], [0, 1], linestyle='--')\n",
    "plt.plot(false_positive_rate, true_positive_rate, marker='.')\n",
    "plt.title(\"ROC Curve\", pad=20, fontsize=20)\n",
    "plt.show()"
   ]
  },
  {
   "cell_type": "code",
   "execution_count": 39,
   "metadata": {},
   "outputs": [
    {
     "name": "stderr",
     "output_type": "stream",
     "text": [
      "C:\\Users\\budaks\\AppData\\Local\\Continuum\\anaconda3\\lib\\site-packages\\sklearn\\ensemble\\forest.py:245: FutureWarning: The default value of n_estimators will change from 10 in version 0.20 to 100 in 0.22.\n",
      "  \"10 in version 0.20 to 100 in 0.22.\", FutureWarning)\n"
     ]
    }
   ],
   "source": [
    "#Set up Random Forest model in order to classify churn customers.\n",
    "\n",
    "model_rf = RandomForestClassifier()\n",
    "result = model_rf.fit(x_train, y_train)"
   ]
  },
  {
   "cell_type": "code",
   "execution_count": 40,
   "metadata": {},
   "outputs": [
    {
     "name": "stdout",
     "output_type": "stream",
     "text": [
      "Cross validation scores: [0.90278601 0.89567279 0.89804386 0.90035587 0.89620403 0.89857651\n",
      " 0.89086595 0.89323843 0.90332147 0.88961424]\n",
      "Average of scores: %89\n"
     ]
    }
   ],
   "source": [
    "#Cross validation \n",
    "\n",
    "cv = KFold(n_splits=10, shuffle=False, random_state=42)\n",
    "\n",
    "for train_index, test_index in cv.split(sample_train_data):\n",
    "    cv_x_train, cv_x_test = x_train[train_index], x_train[test_index]\n",
    "    cv_y_train, cv_y_test = y_train[train_index], y_train[test_index]\n",
    "    \n",
    "cv_scores = cross_val_score(model_rf, x_train, y_train, cv=10)\n",
    "    \n",
    "print(\"Cross validation scores:\", cv_scores)\n",
    "print(\"Average of scores: %%%d\" % (np.mean(cv_scores*100)))"
   ]
  },
  {
   "cell_type": "code",
   "execution_count": 41,
   "metadata": {},
   "outputs": [
    {
     "name": "stdout",
     "output_type": "stream",
     "text": [
      "Accuracy score is %85.\n"
     ]
    }
   ],
   "source": [
    "#Test model and calculate accuracy.\n",
    "\n",
    "prediction = model_rf.predict(x_test)\n",
    "\n",
    "#Accuracy score is %85 which is an acceptable score.\n",
    "\n",
    "accuracy_rf = metrics.accuracy_score(y_test, prediction)*100\n",
    "\n",
    "print(\"Accuracy score is %%%d.\" % accuracy_rf)"
   ]
  },
  {
   "cell_type": "code",
   "execution_count": 42,
   "metadata": {},
   "outputs": [
    {
     "data": {
      "text/plain": [
       "<Figure size 432x288 with 0 Axes>"
      ]
     },
     "metadata": {},
     "output_type": "display_data"
    },
    {
     "data": {
      "image/png": "[encoded data removed]",
      "text/plain": [
       "<Figure size 504x504 with 2 Axes>"
      ]
     },
     "metadata": {
      "needs_background": "light"
     },
     "output_type": "display_data"
    }
   ],
   "source": [
    "#Confusion matrix\n",
    "\n",
    "cm = confusion_matrix(y_test, prediction)\n",
    "\n",
    "plt.clf()\n",
    "\n",
    "fig=plt.figure(figsize=(7,7))\n",
    "\n",
    "cax=plt.imshow(cm, interpolation='nearest', cmap=\"Blues\")\n",
    "\n",
    "fig.colorbar(cax)\n",
    "\n",
    "classNames = [\"Not Churn\",\"Churn\"]\n",
    "\n",
    "plt.title('Confusion Matrix of \\n Random Forest Classifier', pad=20, fontsize=20)\n",
    "\n",
    "plt.xlabel('Predicted', fontsize=15)\n",
    "plt.ylabel('Actual', fontsize=15)\n",
    "\n",
    "tick_marks = np.arange(len(classNames))\n",
    "\n",
    "plt.xticks(tick_marks, classNames, fontsize=12)\n",
    "plt.yticks(tick_marks, classNames, fontsize=12)\n",
    "\n",
    "s = [['TN','FP'], ['FN', 'TP']]\n",
    "\n",
    "for i in range(2):\n",
    "    for j in range(2):\n",
    "        plt.text(j,i, str(s[i][j])+\" = \"+str(cm[i][j]), horizontalalignment='center',verticalalignment='center',\n",
    "                 bbox=dict(facecolor='white'), fontsize=12)\n",
    "plt.show()\n"
   ]
  },
  {
   "cell_type": "code",
   "execution_count": 43,
   "metadata": {},
   "outputs": [
    {
     "name": "stdout",
     "output_type": "stream",
     "text": [
      "Precision score is 0.94.\n",
      "Recall score is 0.69.\n",
      "F1 score is 0.80.\n"
     ]
    }
   ],
   "source": [
    "#Calculate scores.\n",
    "\n",
    "print(\"Precision score is %.2f.\" % metrics.precision_score(y_test, prediction))\n",
    "print(\"Recall score is %.2f.\" % metrics.recall_score(y_test, prediction))\n",
    "print(\"F1 score is %.2f.\" % metrics.f1_score(y_test, prediction))"
   ]
  },
  {
   "cell_type": "code",
   "execution_count": 44,
   "metadata": {},
   "outputs": [
    {
     "data": {
      "image/png": "[encoded data removed]",
      "text/plain": [
       "<Figure size 432x288 with 1 Axes>"
      ]
     },
     "metadata": {
      "needs_background": "light"
     },
     "output_type": "display_data"
    }
   ],
   "source": [
    "#Plot the precision-recall curve for the model\n",
    "\n",
    "plt.plot([0, 1], [0.5, 0.5], linestyle='--')\n",
    "precision, recall, thresholds = precision_recall_curve(y_test, prediction)\n",
    "plt.plot(recall, precision, marker='.')\n",
    "plt.title(\"Precision-Recall Curve\", pad=20, fontsize=20)\n",
    "plt.show()\n"
   ]
  },
  {
   "cell_type": "code",
   "execution_count": 45,
   "metadata": {},
   "outputs": [
    {
     "name": "stdout",
     "output_type": "stream",
     "text": [
      "AUC: 0.83\n"
     ]
    }
   ],
   "source": [
    "#Calculate AUC value\n",
    "\n",
    "false_positive_rate, true_positive_rate, thresholds = roc_curve(y_test, prediction)\n",
    "roc_auc = auc(false_positive_rate, true_positive_rate)\n",
    "\n",
    "print('AUC: %.2f' % roc_auc)"
   ]
  },
  {
   "cell_type": "code",
   "execution_count": 46,
   "metadata": {},
   "outputs": [
    {
     "data": {
      "image/png": "[encoded data removed]",
      "text/plain": [
       "<Figure size 432x288 with 1 Axes>"
      ]
     },
     "metadata": {
      "needs_background": "light"
     },
     "output_type": "display_data"
    }
   ],
   "source": [
    "#Plot the ROC curve for the model\n",
    "\n",
    "plt.plot([0, 1], [0, 1], linestyle='--')\n",
    "plt.plot(false_positive_rate, true_positive_rate, marker='.')\n",
    "plt.title(\"ROC Curve\", pad=20, fontsize=20)\n",
    "plt.show()"
   ]
  },
  {
   "cell_type": "code",
   "execution_count": 52,
   "metadata": {},
   "outputs": [],
   "source": [
    "#Set up BaggingClassifier model in order to classify churn customers. AdaBoostClassifier, \n",
    "from sklearn.ensemble import BaggingClassifier"
   ]
  },
  {
   "cell_type": "code",
   "execution_count": 54,
   "metadata": {},
   "outputs": [
    {
     "name": "stderr",
     "output_type": "stream",
     "text": [
      "C:\\Users\\budaks\\AppData\\Local\\Continuum\\anaconda3\\lib\\site-packages\\sklearn\\ensemble\\forest.py:245: FutureWarning: The default value of n_estimators will change from 10 in version 0.20 to 100 in 0.22.\n",
      "  \"10 in version 0.20 to 100 in 0.22.\", FutureWarning)\n",
      "C:\\Users\\budaks\\AppData\\Local\\Continuum\\anaconda3\\lib\\site-packages\\sklearn\\ensemble\\forest.py:245: FutureWarning: The default value of n_estimators will change from 10 in version 0.20 to 100 in 0.22.\n",
      "  \"10 in version 0.20 to 100 in 0.22.\", FutureWarning)\n",
      "C:\\Users\\budaks\\AppData\\Local\\Continuum\\anaconda3\\lib\\site-packages\\sklearn\\ensemble\\forest.py:245: FutureWarning: The default value of n_estimators will change from 10 in version 0.20 to 100 in 0.22.\n",
      "  \"10 in version 0.20 to 100 in 0.22.\", FutureWarning)\n",
      "C:\\Users\\budaks\\AppData\\Local\\Continuum\\anaconda3\\lib\\site-packages\\sklearn\\ensemble\\forest.py:245: FutureWarning: The default value of n_estimators will change from 10 in version 0.20 to 100 in 0.22.\n",
      "  \"10 in version 0.20 to 100 in 0.22.\", FutureWarning)\n",
      "C:\\Users\\budaks\\AppData\\Local\\Continuum\\anaconda3\\lib\\site-packages\\sklearn\\ensemble\\forest.py:245: FutureWarning: The default value of n_estimators will change from 10 in version 0.20 to 100 in 0.22.\n",
      "  \"10 in version 0.20 to 100 in 0.22.\", FutureWarning)\n",
      "C:\\Users\\budaks\\AppData\\Local\\Continuum\\anaconda3\\lib\\site-packages\\sklearn\\ensemble\\forest.py:245: FutureWarning: The default value of n_estimators will change from 10 in version 0.20 to 100 in 0.22.\n",
      "  \"10 in version 0.20 to 100 in 0.22.\", FutureWarning)\n",
      "C:\\Users\\budaks\\AppData\\Local\\Continuum\\anaconda3\\lib\\site-packages\\sklearn\\ensemble\\forest.py:245: FutureWarning: The default value of n_estimators will change from 10 in version 0.20 to 100 in 0.22.\n",
      "  \"10 in version 0.20 to 100 in 0.22.\", FutureWarning)\n",
      "C:\\Users\\budaks\\AppData\\Local\\Continuum\\anaconda3\\lib\\site-packages\\sklearn\\ensemble\\forest.py:245: FutureWarning: The default value of n_estimators will change from 10 in version 0.20 to 100 in 0.22.\n",
      "  \"10 in version 0.20 to 100 in 0.22.\", FutureWarning)\n",
      "C:\\Users\\budaks\\AppData\\Local\\Continuum\\anaconda3\\lib\\site-packages\\sklearn\\ensemble\\forest.py:245: FutureWarning: The default value of n_estimators will change from 10 in version 0.20 to 100 in 0.22.\n",
      "  \"10 in version 0.20 to 100 in 0.22.\", FutureWarning)\n",
      "C:\\Users\\budaks\\AppData\\Local\\Continuum\\anaconda3\\lib\\site-packages\\sklearn\\ensemble\\forest.py:245: FutureWarning: The default value of n_estimators will change from 10 in version 0.20 to 100 in 0.22.\n",
      "  \"10 in version 0.20 to 100 in 0.22.\", FutureWarning)\n"
     ]
    }
   ],
   "source": [
    "# Fitting the BaggingClassifier to the Training set\n",
    "model_bc = BaggingClassifier(base_estimator=RandomForestClassifier(),n_estimators=10, random_state=0)\n",
    "result = model_bc.fit(x_train, y_train)\n"
   ]
  },
  {
   "cell_type": "code",
   "execution_count": 55,
   "metadata": {},
   "outputs": [
    {
     "name": "stderr",
     "output_type": "stream",
     "text": [
      "C:\\Users\\budaks\\AppData\\Local\\Continuum\\anaconda3\\lib\\site-packages\\sklearn\\ensemble\\forest.py:245: FutureWarning: The default value of n_estimators will change from 10 in version 0.20 to 100 in 0.22.\n",
      "  \"10 in version 0.20 to 100 in 0.22.\", FutureWarning)\n",
      "C:\\Users\\budaks\\AppData\\Local\\Continuum\\anaconda3\\lib\\site-packages\\sklearn\\ensemble\\forest.py:245: FutureWarning: The default value of n_estimators will change from 10 in version 0.20 to 100 in 0.22.\n",
      "  \"10 in version 0.20 to 100 in 0.22.\", FutureWarning)\n",
      "C:\\Users\\budaks\\AppData\\Local\\Continuum\\anaconda3\\lib\\site-packages\\sklearn\\ensemble\\forest.py:245: FutureWarning: The default value of n_estimators will change from 10 in version 0.20 to 100 in 0.22.\n",
      "  \"10 in version 0.20 to 100 in 0.22.\", FutureWarning)\n",
      "C:\\Users\\budaks\\AppData\\Local\\Continuum\\anaconda3\\lib\\site-packages\\sklearn\\ensemble\\forest.py:245: FutureWarning: The default value of n_estimators will change from 10 in version 0.20 to 100 in 0.22.\n",
      "  \"10 in version 0.20 to 100 in 0.22.\", FutureWarning)\n",
      "C:\\Users\\budaks\\AppData\\Local\\Continuum\\anaconda3\\lib\\site-packages\\sklearn\\ensemble\\forest.py:245: FutureWarning: The default value of n_estimators will change from 10 in version 0.20 to 100 in 0.22.\n",
      "  \"10 in version 0.20 to 100 in 0.22.\", FutureWarning)\n",
      "C:\\Users\\budaks\\AppData\\Local\\Continuum\\anaconda3\\lib\\site-packages\\sklearn\\ensemble\\forest.py:245: FutureWarning: The default value of n_estimators will change from 10 in version 0.20 to 100 in 0.22.\n",
      "  \"10 in version 0.20 to 100 in 0.22.\", FutureWarning)\n",
      "C:\\Users\\budaks\\AppData\\Local\\Continuum\\anaconda3\\lib\\site-packages\\sklearn\\ensemble\\forest.py:245: FutureWarning: The default value of n_estimators will change from 10 in version 0.20 to 100 in 0.22.\n",
      "  \"10 in version 0.20 to 100 in 0.22.\", FutureWarning)\n",
      "C:\\Users\\budaks\\AppData\\Local\\Continuum\\anaconda3\\lib\\site-packages\\sklearn\\ensemble\\forest.py:245: FutureWarning: The default value of n_estimators will change from 10 in version 0.20 to 100 in 0.22.\n",
      "  \"10 in version 0.20 to 100 in 0.22.\", FutureWarning)\n",
      "C:\\Users\\budaks\\AppData\\Local\\Continuum\\anaconda3\\lib\\site-packages\\sklearn\\ensemble\\forest.py:245: FutureWarning: The default value of n_estimators will change from 10 in version 0.20 to 100 in 0.22.\n",
      "  \"10 in version 0.20 to 100 in 0.22.\", FutureWarning)\n",
      "C:\\Users\\budaks\\AppData\\Local\\Continuum\\anaconda3\\lib\\site-packages\\sklearn\\ensemble\\forest.py:245: FutureWarning: The default value of n_estimators will change from 10 in version 0.20 to 100 in 0.22.\n",
      "  \"10 in version 0.20 to 100 in 0.22.\", FutureWarning)\n",
      "C:\\Users\\budaks\\AppData\\Local\\Continuum\\anaconda3\\lib\\site-packages\\sklearn\\ensemble\\forest.py:245: FutureWarning: The default value of n_estimators will change from 10 in version 0.20 to 100 in 0.22.\n",
      "  \"10 in version 0.20 to 100 in 0.22.\", FutureWarning)\n",
      "C:\\Users\\budaks\\AppData\\Local\\Continuum\\anaconda3\\lib\\site-packages\\sklearn\\ensemble\\forest.py:245: FutureWarning: The default value of n_estimators will change from 10 in version 0.20 to 100 in 0.22.\n",
      "  \"10 in version 0.20 to 100 in 0.22.\", FutureWarning)\n",
      "C:\\Users\\budaks\\AppData\\Local\\Continuum\\anaconda3\\lib\\site-packages\\sklearn\\ensemble\\forest.py:245: FutureWarning: The default value of n_estimators will change from 10 in version 0.20 to 100 in 0.22.\n",
      "  \"10 in version 0.20 to 100 in 0.22.\", FutureWarning)\n",
      "C:\\Users\\budaks\\AppData\\Local\\Continuum\\anaconda3\\lib\\site-packages\\sklearn\\ensemble\\forest.py:245: FutureWarning: The default value of n_estimators will change from 10 in version 0.20 to 100 in 0.22.\n",
      "  \"10 in version 0.20 to 100 in 0.22.\", FutureWarning)\n",
      "C:\\Users\\budaks\\AppData\\Local\\Continuum\\anaconda3\\lib\\site-packages\\sklearn\\ensemble\\forest.py:245: FutureWarning: The default value of n_estimators will change from 10 in version 0.20 to 100 in 0.22.\n",
      "  \"10 in version 0.20 to 100 in 0.22.\", FutureWarning)\n",
      "C:\\Users\\budaks\\AppData\\Local\\Continuum\\anaconda3\\lib\\site-packages\\sklearn\\ensemble\\forest.py:245: FutureWarning: The default value of n_estimators will change from 10 in version 0.20 to 100 in 0.22.\n",
      "  \"10 in version 0.20 to 100 in 0.22.\", FutureWarning)\n",
      "C:\\Users\\budaks\\AppData\\Local\\Continuum\\anaconda3\\lib\\site-packages\\sklearn\\ensemble\\forest.py:245: FutureWarning: The default value of n_estimators will change from 10 in version 0.20 to 100 in 0.22.\n",
      "  \"10 in version 0.20 to 100 in 0.22.\", FutureWarning)\n",
      "C:\\Users\\budaks\\AppData\\Local\\Continuum\\anaconda3\\lib\\site-packages\\sklearn\\ensemble\\forest.py:245: FutureWarning: The default value of n_estimators will change from 10 in version 0.20 to 100 in 0.22.\n",
      "  \"10 in version 0.20 to 100 in 0.22.\", FutureWarning)\n",
      "C:\\Users\\budaks\\AppData\\Local\\Continuum\\anaconda3\\lib\\site-packages\\sklearn\\ensemble\\forest.py:245: FutureWarning: The default value of n_estimators will change from 10 in version 0.20 to 100 in 0.22.\n",
      "  \"10 in version 0.20 to 100 in 0.22.\", FutureWarning)\n",
      "C:\\Users\\budaks\\AppData\\Local\\Continuum\\anaconda3\\lib\\site-packages\\sklearn\\ensemble\\forest.py:245: FutureWarning: The default value of n_estimators will change from 10 in version 0.20 to 100 in 0.22.\n",
      "  \"10 in version 0.20 to 100 in 0.22.\", FutureWarning)\n",
      "C:\\Users\\budaks\\AppData\\Local\\Continuum\\anaconda3\\lib\\site-packages\\sklearn\\ensemble\\forest.py:245: FutureWarning: The default value of n_estimators will change from 10 in version 0.20 to 100 in 0.22.\n",
      "  \"10 in version 0.20 to 100 in 0.22.\", FutureWarning)\n",
      "C:\\Users\\budaks\\AppData\\Local\\Continuum\\anaconda3\\lib\\site-packages\\sklearn\\ensemble\\forest.py:245: FutureWarning: The default value of n_estimators will change from 10 in version 0.20 to 100 in 0.22.\n",
      "  \"10 in version 0.20 to 100 in 0.22.\", FutureWarning)\n",
      "C:\\Users\\budaks\\AppData\\Local\\Continuum\\anaconda3\\lib\\site-packages\\sklearn\\ensemble\\forest.py:245: FutureWarning: The default value of n_estimators will change from 10 in version 0.20 to 100 in 0.22.\n",
      "  \"10 in version 0.20 to 100 in 0.22.\", FutureWarning)\n",
      "C:\\Users\\budaks\\AppData\\Local\\Continuum\\anaconda3\\lib\\site-packages\\sklearn\\ensemble\\forest.py:245: FutureWarning: The default value of n_estimators will change from 10 in version 0.20 to 100 in 0.22.\n",
      "  \"10 in version 0.20 to 100 in 0.22.\", FutureWarning)\n",
      "C:\\Users\\budaks\\AppData\\Local\\Continuum\\anaconda3\\lib\\site-packages\\sklearn\\ensemble\\forest.py:245: FutureWarning: The default value of n_estimators will change from 10 in version 0.20 to 100 in 0.22.\n",
      "  \"10 in version 0.20 to 100 in 0.22.\", FutureWarning)\n",
      "C:\\Users\\budaks\\AppData\\Local\\Continuum\\anaconda3\\lib\\site-packages\\sklearn\\ensemble\\forest.py:245: FutureWarning: The default value of n_estimators will change from 10 in version 0.20 to 100 in 0.22.\n",
      "  \"10 in version 0.20 to 100 in 0.22.\", FutureWarning)\n",
      "C:\\Users\\budaks\\AppData\\Local\\Continuum\\anaconda3\\lib\\site-packages\\sklearn\\ensemble\\forest.py:245: FutureWarning: The default value of n_estimators will change from 10 in version 0.20 to 100 in 0.22.\n",
      "  \"10 in version 0.20 to 100 in 0.22.\", FutureWarning)\n",
      "C:\\Users\\budaks\\AppData\\Local\\Continuum\\anaconda3\\lib\\site-packages\\sklearn\\ensemble\\forest.py:245: FutureWarning: The default value of n_estimators will change from 10 in version 0.20 to 100 in 0.22.\n",
      "  \"10 in version 0.20 to 100 in 0.22.\", FutureWarning)\n",
      "C:\\Users\\budaks\\AppData\\Local\\Continuum\\anaconda3\\lib\\site-packages\\sklearn\\ensemble\\forest.py:245: FutureWarning: The default value of n_estimators will change from 10 in version 0.20 to 100 in 0.22.\n",
      "  \"10 in version 0.20 to 100 in 0.22.\", FutureWarning)\n",
      "C:\\Users\\budaks\\AppData\\Local\\Continuum\\anaconda3\\lib\\site-packages\\sklearn\\ensemble\\forest.py:245: FutureWarning: The default value of n_estimators will change from 10 in version 0.20 to 100 in 0.22.\n",
      "  \"10 in version 0.20 to 100 in 0.22.\", FutureWarning)\n",
      "C:\\Users\\budaks\\AppData\\Local\\Continuum\\anaconda3\\lib\\site-packages\\sklearn\\ensemble\\forest.py:245: FutureWarning: The default value of n_estimators will change from 10 in version 0.20 to 100 in 0.22.\n",
      "  \"10 in version 0.20 to 100 in 0.22.\", FutureWarning)\n",
      "C:\\Users\\budaks\\AppData\\Local\\Continuum\\anaconda3\\lib\\site-packages\\sklearn\\ensemble\\forest.py:245: FutureWarning: The default value of n_estimators will change from 10 in version 0.20 to 100 in 0.22.\n",
      "  \"10 in version 0.20 to 100 in 0.22.\", FutureWarning)\n",
      "C:\\Users\\budaks\\AppData\\Local\\Continuum\\anaconda3\\lib\\site-packages\\sklearn\\ensemble\\forest.py:245: FutureWarning: The default value of n_estimators will change from 10 in version 0.20 to 100 in 0.22.\n",
      "  \"10 in version 0.20 to 100 in 0.22.\", FutureWarning)\n"
     ]
    },
    {
     "name": "stderr",
     "output_type": "stream",
     "text": [
      "C:\\Users\\budaks\\AppData\\Local\\Continuum\\anaconda3\\lib\\site-packages\\sklearn\\ensemble\\forest.py:245: FutureWarning: The default value of n_estimators will change from 10 in version 0.20 to 100 in 0.22.\n",
      "  \"10 in version 0.20 to 100 in 0.22.\", FutureWarning)\n",
      "C:\\Users\\budaks\\AppData\\Local\\Continuum\\anaconda3\\lib\\site-packages\\sklearn\\ensemble\\forest.py:245: FutureWarning: The default value of n_estimators will change from 10 in version 0.20 to 100 in 0.22.\n",
      "  \"10 in version 0.20 to 100 in 0.22.\", FutureWarning)\n",
      "C:\\Users\\budaks\\AppData\\Local\\Continuum\\anaconda3\\lib\\site-packages\\sklearn\\ensemble\\forest.py:245: FutureWarning: The default value of n_estimators will change from 10 in version 0.20 to 100 in 0.22.\n",
      "  \"10 in version 0.20 to 100 in 0.22.\", FutureWarning)\n",
      "C:\\Users\\budaks\\AppData\\Local\\Continuum\\anaconda3\\lib\\site-packages\\sklearn\\ensemble\\forest.py:245: FutureWarning: The default value of n_estimators will change from 10 in version 0.20 to 100 in 0.22.\n",
      "  \"10 in version 0.20 to 100 in 0.22.\", FutureWarning)\n",
      "C:\\Users\\budaks\\AppData\\Local\\Continuum\\anaconda3\\lib\\site-packages\\sklearn\\ensemble\\forest.py:245: FutureWarning: The default value of n_estimators will change from 10 in version 0.20 to 100 in 0.22.\n",
      "  \"10 in version 0.20 to 100 in 0.22.\", FutureWarning)\n",
      "C:\\Users\\budaks\\AppData\\Local\\Continuum\\anaconda3\\lib\\site-packages\\sklearn\\ensemble\\forest.py:245: FutureWarning: The default value of n_estimators will change from 10 in version 0.20 to 100 in 0.22.\n",
      "  \"10 in version 0.20 to 100 in 0.22.\", FutureWarning)\n",
      "C:\\Users\\budaks\\AppData\\Local\\Continuum\\anaconda3\\lib\\site-packages\\sklearn\\ensemble\\forest.py:245: FutureWarning: The default value of n_estimators will change from 10 in version 0.20 to 100 in 0.22.\n",
      "  \"10 in version 0.20 to 100 in 0.22.\", FutureWarning)\n",
      "C:\\Users\\budaks\\AppData\\Local\\Continuum\\anaconda3\\lib\\site-packages\\sklearn\\ensemble\\forest.py:245: FutureWarning: The default value of n_estimators will change from 10 in version 0.20 to 100 in 0.22.\n",
      "  \"10 in version 0.20 to 100 in 0.22.\", FutureWarning)\n",
      "C:\\Users\\budaks\\AppData\\Local\\Continuum\\anaconda3\\lib\\site-packages\\sklearn\\ensemble\\forest.py:245: FutureWarning: The default value of n_estimators will change from 10 in version 0.20 to 100 in 0.22.\n",
      "  \"10 in version 0.20 to 100 in 0.22.\", FutureWarning)\n",
      "C:\\Users\\budaks\\AppData\\Local\\Continuum\\anaconda3\\lib\\site-packages\\sklearn\\ensemble\\forest.py:245: FutureWarning: The default value of n_estimators will change from 10 in version 0.20 to 100 in 0.22.\n",
      "  \"10 in version 0.20 to 100 in 0.22.\", FutureWarning)\n",
      "C:\\Users\\budaks\\AppData\\Local\\Continuum\\anaconda3\\lib\\site-packages\\sklearn\\ensemble\\forest.py:245: FutureWarning: The default value of n_estimators will change from 10 in version 0.20 to 100 in 0.22.\n",
      "  \"10 in version 0.20 to 100 in 0.22.\", FutureWarning)\n",
      "C:\\Users\\budaks\\AppData\\Local\\Continuum\\anaconda3\\lib\\site-packages\\sklearn\\ensemble\\forest.py:245: FutureWarning: The default value of n_estimators will change from 10 in version 0.20 to 100 in 0.22.\n",
      "  \"10 in version 0.20 to 100 in 0.22.\", FutureWarning)\n",
      "C:\\Users\\budaks\\AppData\\Local\\Continuum\\anaconda3\\lib\\site-packages\\sklearn\\ensemble\\forest.py:245: FutureWarning: The default value of n_estimators will change from 10 in version 0.20 to 100 in 0.22.\n",
      "  \"10 in version 0.20 to 100 in 0.22.\", FutureWarning)\n",
      "C:\\Users\\budaks\\AppData\\Local\\Continuum\\anaconda3\\lib\\site-packages\\sklearn\\ensemble\\forest.py:245: FutureWarning: The default value of n_estimators will change from 10 in version 0.20 to 100 in 0.22.\n",
      "  \"10 in version 0.20 to 100 in 0.22.\", FutureWarning)\n",
      "C:\\Users\\budaks\\AppData\\Local\\Continuum\\anaconda3\\lib\\site-packages\\sklearn\\ensemble\\forest.py:245: FutureWarning: The default value of n_estimators will change from 10 in version 0.20 to 100 in 0.22.\n",
      "  \"10 in version 0.20 to 100 in 0.22.\", FutureWarning)\n",
      "C:\\Users\\budaks\\AppData\\Local\\Continuum\\anaconda3\\lib\\site-packages\\sklearn\\ensemble\\forest.py:245: FutureWarning: The default value of n_estimators will change from 10 in version 0.20 to 100 in 0.22.\n",
      "  \"10 in version 0.20 to 100 in 0.22.\", FutureWarning)\n",
      "C:\\Users\\budaks\\AppData\\Local\\Continuum\\anaconda3\\lib\\site-packages\\sklearn\\ensemble\\forest.py:245: FutureWarning: The default value of n_estimators will change from 10 in version 0.20 to 100 in 0.22.\n",
      "  \"10 in version 0.20 to 100 in 0.22.\", FutureWarning)\n",
      "C:\\Users\\budaks\\AppData\\Local\\Continuum\\anaconda3\\lib\\site-packages\\sklearn\\ensemble\\forest.py:245: FutureWarning: The default value of n_estimators will change from 10 in version 0.20 to 100 in 0.22.\n",
      "  \"10 in version 0.20 to 100 in 0.22.\", FutureWarning)\n",
      "C:\\Users\\budaks\\AppData\\Local\\Continuum\\anaconda3\\lib\\site-packages\\sklearn\\ensemble\\forest.py:245: FutureWarning: The default value of n_estimators will change from 10 in version 0.20 to 100 in 0.22.\n",
      "  \"10 in version 0.20 to 100 in 0.22.\", FutureWarning)\n",
      "C:\\Users\\budaks\\AppData\\Local\\Continuum\\anaconda3\\lib\\site-packages\\sklearn\\ensemble\\forest.py:245: FutureWarning: The default value of n_estimators will change from 10 in version 0.20 to 100 in 0.22.\n",
      "  \"10 in version 0.20 to 100 in 0.22.\", FutureWarning)\n",
      "C:\\Users\\budaks\\AppData\\Local\\Continuum\\anaconda3\\lib\\site-packages\\sklearn\\ensemble\\forest.py:245: FutureWarning: The default value of n_estimators will change from 10 in version 0.20 to 100 in 0.22.\n",
      "  \"10 in version 0.20 to 100 in 0.22.\", FutureWarning)\n",
      "C:\\Users\\budaks\\AppData\\Local\\Continuum\\anaconda3\\lib\\site-packages\\sklearn\\ensemble\\forest.py:245: FutureWarning: The default value of n_estimators will change from 10 in version 0.20 to 100 in 0.22.\n",
      "  \"10 in version 0.20 to 100 in 0.22.\", FutureWarning)\n",
      "C:\\Users\\budaks\\AppData\\Local\\Continuum\\anaconda3\\lib\\site-packages\\sklearn\\ensemble\\forest.py:245: FutureWarning: The default value of n_estimators will change from 10 in version 0.20 to 100 in 0.22.\n",
      "  \"10 in version 0.20 to 100 in 0.22.\", FutureWarning)\n",
      "C:\\Users\\budaks\\AppData\\Local\\Continuum\\anaconda3\\lib\\site-packages\\sklearn\\ensemble\\forest.py:245: FutureWarning: The default value of n_estimators will change from 10 in version 0.20 to 100 in 0.22.\n",
      "  \"10 in version 0.20 to 100 in 0.22.\", FutureWarning)\n",
      "C:\\Users\\budaks\\AppData\\Local\\Continuum\\anaconda3\\lib\\site-packages\\sklearn\\ensemble\\forest.py:245: FutureWarning: The default value of n_estimators will change from 10 in version 0.20 to 100 in 0.22.\n",
      "  \"10 in version 0.20 to 100 in 0.22.\", FutureWarning)\n",
      "C:\\Users\\budaks\\AppData\\Local\\Continuum\\anaconda3\\lib\\site-packages\\sklearn\\ensemble\\forest.py:245: FutureWarning: The default value of n_estimators will change from 10 in version 0.20 to 100 in 0.22.\n",
      "  \"10 in version 0.20 to 100 in 0.22.\", FutureWarning)\n",
      "C:\\Users\\budaks\\AppData\\Local\\Continuum\\anaconda3\\lib\\site-packages\\sklearn\\ensemble\\forest.py:245: FutureWarning: The default value of n_estimators will change from 10 in version 0.20 to 100 in 0.22.\n",
      "  \"10 in version 0.20 to 100 in 0.22.\", FutureWarning)\n",
      "C:\\Users\\budaks\\AppData\\Local\\Continuum\\anaconda3\\lib\\site-packages\\sklearn\\ensemble\\forest.py:245: FutureWarning: The default value of n_estimators will change from 10 in version 0.20 to 100 in 0.22.\n",
      "  \"10 in version 0.20 to 100 in 0.22.\", FutureWarning)\n",
      "C:\\Users\\budaks\\AppData\\Local\\Continuum\\anaconda3\\lib\\site-packages\\sklearn\\ensemble\\forest.py:245: FutureWarning: The default value of n_estimators will change from 10 in version 0.20 to 100 in 0.22.\n",
      "  \"10 in version 0.20 to 100 in 0.22.\", FutureWarning)\n",
      "C:\\Users\\budaks\\AppData\\Local\\Continuum\\anaconda3\\lib\\site-packages\\sklearn\\ensemble\\forest.py:245: FutureWarning: The default value of n_estimators will change from 10 in version 0.20 to 100 in 0.22.\n",
      "  \"10 in version 0.20 to 100 in 0.22.\", FutureWarning)\n",
      "C:\\Users\\budaks\\AppData\\Local\\Continuum\\anaconda3\\lib\\site-packages\\sklearn\\ensemble\\forest.py:245: FutureWarning: The default value of n_estimators will change from 10 in version 0.20 to 100 in 0.22.\n",
      "  \"10 in version 0.20 to 100 in 0.22.\", FutureWarning)\n",
      "C:\\Users\\budaks\\AppData\\Local\\Continuum\\anaconda3\\lib\\site-packages\\sklearn\\ensemble\\forest.py:245: FutureWarning: The default value of n_estimators will change from 10 in version 0.20 to 100 in 0.22.\n",
      "  \"10 in version 0.20 to 100 in 0.22.\", FutureWarning)\n",
      "C:\\Users\\budaks\\AppData\\Local\\Continuum\\anaconda3\\lib\\site-packages\\sklearn\\ensemble\\forest.py:245: FutureWarning: The default value of n_estimators will change from 10 in version 0.20 to 100 in 0.22.\n",
      "  \"10 in version 0.20 to 100 in 0.22.\", FutureWarning)\n"
     ]
    },
    {
     "name": "stderr",
     "output_type": "stream",
     "text": [
      "C:\\Users\\budaks\\AppData\\Local\\Continuum\\anaconda3\\lib\\site-packages\\sklearn\\ensemble\\forest.py:245: FutureWarning: The default value of n_estimators will change from 10 in version 0.20 to 100 in 0.22.\n",
      "  \"10 in version 0.20 to 100 in 0.22.\", FutureWarning)\n",
      "C:\\Users\\budaks\\AppData\\Local\\Continuum\\anaconda3\\lib\\site-packages\\sklearn\\ensemble\\forest.py:245: FutureWarning: The default value of n_estimators will change from 10 in version 0.20 to 100 in 0.22.\n",
      "  \"10 in version 0.20 to 100 in 0.22.\", FutureWarning)\n",
      "C:\\Users\\budaks\\AppData\\Local\\Continuum\\anaconda3\\lib\\site-packages\\sklearn\\ensemble\\forest.py:245: FutureWarning: The default value of n_estimators will change from 10 in version 0.20 to 100 in 0.22.\n",
      "  \"10 in version 0.20 to 100 in 0.22.\", FutureWarning)\n",
      "C:\\Users\\budaks\\AppData\\Local\\Continuum\\anaconda3\\lib\\site-packages\\sklearn\\ensemble\\forest.py:245: FutureWarning: The default value of n_estimators will change from 10 in version 0.20 to 100 in 0.22.\n",
      "  \"10 in version 0.20 to 100 in 0.22.\", FutureWarning)\n",
      "C:\\Users\\budaks\\AppData\\Local\\Continuum\\anaconda3\\lib\\site-packages\\sklearn\\ensemble\\forest.py:245: FutureWarning: The default value of n_estimators will change from 10 in version 0.20 to 100 in 0.22.\n",
      "  \"10 in version 0.20 to 100 in 0.22.\", FutureWarning)\n",
      "C:\\Users\\budaks\\AppData\\Local\\Continuum\\anaconda3\\lib\\site-packages\\sklearn\\ensemble\\forest.py:245: FutureWarning: The default value of n_estimators will change from 10 in version 0.20 to 100 in 0.22.\n",
      "  \"10 in version 0.20 to 100 in 0.22.\", FutureWarning)\n",
      "C:\\Users\\budaks\\AppData\\Local\\Continuum\\anaconda3\\lib\\site-packages\\sklearn\\ensemble\\forest.py:245: FutureWarning: The default value of n_estimators will change from 10 in version 0.20 to 100 in 0.22.\n",
      "  \"10 in version 0.20 to 100 in 0.22.\", FutureWarning)\n",
      "C:\\Users\\budaks\\AppData\\Local\\Continuum\\anaconda3\\lib\\site-packages\\sklearn\\ensemble\\forest.py:245: FutureWarning: The default value of n_estimators will change from 10 in version 0.20 to 100 in 0.22.\n",
      "  \"10 in version 0.20 to 100 in 0.22.\", FutureWarning)\n",
      "C:\\Users\\budaks\\AppData\\Local\\Continuum\\anaconda3\\lib\\site-packages\\sklearn\\ensemble\\forest.py:245: FutureWarning: The default value of n_estimators will change from 10 in version 0.20 to 100 in 0.22.\n",
      "  \"10 in version 0.20 to 100 in 0.22.\", FutureWarning)\n",
      "C:\\Users\\budaks\\AppData\\Local\\Continuum\\anaconda3\\lib\\site-packages\\sklearn\\ensemble\\forest.py:245: FutureWarning: The default value of n_estimators will change from 10 in version 0.20 to 100 in 0.22.\n",
      "  \"10 in version 0.20 to 100 in 0.22.\", FutureWarning)\n",
      "C:\\Users\\budaks\\AppData\\Local\\Continuum\\anaconda3\\lib\\site-packages\\sklearn\\ensemble\\forest.py:245: FutureWarning: The default value of n_estimators will change from 10 in version 0.20 to 100 in 0.22.\n",
      "  \"10 in version 0.20 to 100 in 0.22.\", FutureWarning)\n",
      "C:\\Users\\budaks\\AppData\\Local\\Continuum\\anaconda3\\lib\\site-packages\\sklearn\\ensemble\\forest.py:245: FutureWarning: The default value of n_estimators will change from 10 in version 0.20 to 100 in 0.22.\n",
      "  \"10 in version 0.20 to 100 in 0.22.\", FutureWarning)\n",
      "C:\\Users\\budaks\\AppData\\Local\\Continuum\\anaconda3\\lib\\site-packages\\sklearn\\ensemble\\forest.py:245: FutureWarning: The default value of n_estimators will change from 10 in version 0.20 to 100 in 0.22.\n",
      "  \"10 in version 0.20 to 100 in 0.22.\", FutureWarning)\n",
      "C:\\Users\\budaks\\AppData\\Local\\Continuum\\anaconda3\\lib\\site-packages\\sklearn\\ensemble\\forest.py:245: FutureWarning: The default value of n_estimators will change from 10 in version 0.20 to 100 in 0.22.\n",
      "  \"10 in version 0.20 to 100 in 0.22.\", FutureWarning)\n",
      "C:\\Users\\budaks\\AppData\\Local\\Continuum\\anaconda3\\lib\\site-packages\\sklearn\\ensemble\\forest.py:245: FutureWarning: The default value of n_estimators will change from 10 in version 0.20 to 100 in 0.22.\n",
      "  \"10 in version 0.20 to 100 in 0.22.\", FutureWarning)\n",
      "C:\\Users\\budaks\\AppData\\Local\\Continuum\\anaconda3\\lib\\site-packages\\sklearn\\ensemble\\forest.py:245: FutureWarning: The default value of n_estimators will change from 10 in version 0.20 to 100 in 0.22.\n",
      "  \"10 in version 0.20 to 100 in 0.22.\", FutureWarning)\n",
      "C:\\Users\\budaks\\AppData\\Local\\Continuum\\anaconda3\\lib\\site-packages\\sklearn\\ensemble\\forest.py:245: FutureWarning: The default value of n_estimators will change from 10 in version 0.20 to 100 in 0.22.\n",
      "  \"10 in version 0.20 to 100 in 0.22.\", FutureWarning)\n",
      "C:\\Users\\budaks\\AppData\\Local\\Continuum\\anaconda3\\lib\\site-packages\\sklearn\\ensemble\\forest.py:245: FutureWarning: The default value of n_estimators will change from 10 in version 0.20 to 100 in 0.22.\n",
      "  \"10 in version 0.20 to 100 in 0.22.\", FutureWarning)\n",
      "C:\\Users\\budaks\\AppData\\Local\\Continuum\\anaconda3\\lib\\site-packages\\sklearn\\ensemble\\forest.py:245: FutureWarning: The default value of n_estimators will change from 10 in version 0.20 to 100 in 0.22.\n",
      "  \"10 in version 0.20 to 100 in 0.22.\", FutureWarning)\n",
      "C:\\Users\\budaks\\AppData\\Local\\Continuum\\anaconda3\\lib\\site-packages\\sklearn\\ensemble\\forest.py:245: FutureWarning: The default value of n_estimators will change from 10 in version 0.20 to 100 in 0.22.\n",
      "  \"10 in version 0.20 to 100 in 0.22.\", FutureWarning)\n",
      "C:\\Users\\budaks\\AppData\\Local\\Continuum\\anaconda3\\lib\\site-packages\\sklearn\\ensemble\\forest.py:245: FutureWarning: The default value of n_estimators will change from 10 in version 0.20 to 100 in 0.22.\n",
      "  \"10 in version 0.20 to 100 in 0.22.\", FutureWarning)\n",
      "C:\\Users\\budaks\\AppData\\Local\\Continuum\\anaconda3\\lib\\site-packages\\sklearn\\ensemble\\forest.py:245: FutureWarning: The default value of n_estimators will change from 10 in version 0.20 to 100 in 0.22.\n",
      "  \"10 in version 0.20 to 100 in 0.22.\", FutureWarning)\n",
      "C:\\Users\\budaks\\AppData\\Local\\Continuum\\anaconda3\\lib\\site-packages\\sklearn\\ensemble\\forest.py:245: FutureWarning: The default value of n_estimators will change from 10 in version 0.20 to 100 in 0.22.\n",
      "  \"10 in version 0.20 to 100 in 0.22.\", FutureWarning)\n",
      "C:\\Users\\budaks\\AppData\\Local\\Continuum\\anaconda3\\lib\\site-packages\\sklearn\\ensemble\\forest.py:245: FutureWarning: The default value of n_estimators will change from 10 in version 0.20 to 100 in 0.22.\n",
      "  \"10 in version 0.20 to 100 in 0.22.\", FutureWarning)\n",
      "C:\\Users\\budaks\\AppData\\Local\\Continuum\\anaconda3\\lib\\site-packages\\sklearn\\ensemble\\forest.py:245: FutureWarning: The default value of n_estimators will change from 10 in version 0.20 to 100 in 0.22.\n",
      "  \"10 in version 0.20 to 100 in 0.22.\", FutureWarning)\n",
      "C:\\Users\\budaks\\AppData\\Local\\Continuum\\anaconda3\\lib\\site-packages\\sklearn\\ensemble\\forest.py:245: FutureWarning: The default value of n_estimators will change from 10 in version 0.20 to 100 in 0.22.\n",
      "  \"10 in version 0.20 to 100 in 0.22.\", FutureWarning)\n",
      "C:\\Users\\budaks\\AppData\\Local\\Continuum\\anaconda3\\lib\\site-packages\\sklearn\\ensemble\\forest.py:245: FutureWarning: The default value of n_estimators will change from 10 in version 0.20 to 100 in 0.22.\n",
      "  \"10 in version 0.20 to 100 in 0.22.\", FutureWarning)\n",
      "C:\\Users\\budaks\\AppData\\Local\\Continuum\\anaconda3\\lib\\site-packages\\sklearn\\ensemble\\forest.py:245: FutureWarning: The default value of n_estimators will change from 10 in version 0.20 to 100 in 0.22.\n",
      "  \"10 in version 0.20 to 100 in 0.22.\", FutureWarning)\n",
      "C:\\Users\\budaks\\AppData\\Local\\Continuum\\anaconda3\\lib\\site-packages\\sklearn\\ensemble\\forest.py:245: FutureWarning: The default value of n_estimators will change from 10 in version 0.20 to 100 in 0.22.\n",
      "  \"10 in version 0.20 to 100 in 0.22.\", FutureWarning)\n",
      "C:\\Users\\budaks\\AppData\\Local\\Continuum\\anaconda3\\lib\\site-packages\\sklearn\\ensemble\\forest.py:245: FutureWarning: The default value of n_estimators will change from 10 in version 0.20 to 100 in 0.22.\n",
      "  \"10 in version 0.20 to 100 in 0.22.\", FutureWarning)\n",
      "C:\\Users\\budaks\\AppData\\Local\\Continuum\\anaconda3\\lib\\site-packages\\sklearn\\ensemble\\forest.py:245: FutureWarning: The default value of n_estimators will change from 10 in version 0.20 to 100 in 0.22.\n",
      "  \"10 in version 0.20 to 100 in 0.22.\", FutureWarning)\n",
      "C:\\Users\\budaks\\AppData\\Local\\Continuum\\anaconda3\\lib\\site-packages\\sklearn\\ensemble\\forest.py:245: FutureWarning: The default value of n_estimators will change from 10 in version 0.20 to 100 in 0.22.\n",
      "  \"10 in version 0.20 to 100 in 0.22.\", FutureWarning)\n",
      "C:\\Users\\budaks\\AppData\\Local\\Continuum\\anaconda3\\lib\\site-packages\\sklearn\\ensemble\\forest.py:245: FutureWarning: The default value of n_estimators will change from 10 in version 0.20 to 100 in 0.22.\n",
      "  \"10 in version 0.20 to 100 in 0.22.\", FutureWarning)\n"
     ]
    },
    {
     "name": "stderr",
     "output_type": "stream",
     "text": [
      "C:\\Users\\budaks\\AppData\\Local\\Continuum\\anaconda3\\lib\\site-packages\\sklearn\\ensemble\\forest.py:245: FutureWarning: The default value of n_estimators will change from 10 in version 0.20 to 100 in 0.22.\n",
      "  \"10 in version 0.20 to 100 in 0.22.\", FutureWarning)\n"
     ]
    },
    {
     "name": "stdout",
     "output_type": "stream",
     "text": [
      "Cross validation scores: [0.91938352 0.90397155 0.89508002 0.90391459 0.90688019 0.90213523\n",
      " 0.89916963 0.90450771 0.91459075 0.90563798]\n",
      "Average of scores: %90\n"
     ]
    }
   ],
   "source": [
    "#Cross validation \n",
    "\n",
    "cv = KFold(n_splits=10, shuffle=False, random_state=42)\n",
    "\n",
    "for train_index, test_index in cv.split(sample_train_data):\n",
    "    cv_x_train, cv_x_test = x_train[train_index], x_train[test_index]\n",
    "    cv_y_train, cv_y_test = y_train[train_index], y_train[test_index]\n",
    "    \n",
    "cv_scores = cross_val_score(model_bc, x_train, y_train, cv=10)\n",
    "    \n",
    "print(\"Cross validation scores:\", cv_scores)\n",
    "print(\"Average of scores: %%%d\" % (np.mean(cv_scores*100)))"
   ]
  },
  {
   "cell_type": "code",
   "execution_count": 56,
   "metadata": {},
   "outputs": [
    {
     "name": "stdout",
     "output_type": "stream",
     "text": [
      "Accuracy score is %86.\n"
     ]
    }
   ],
   "source": [
    "#Test model and calculate accuracy.\n",
    "\n",
    "prediction = model_bc.predict(x_test)\n",
    "\n",
    "#Accuracy score is %86 which is an acceptable score.\n",
    "\n",
    "accuracy_bc = metrics.accuracy_score(y_test, prediction)*100\n",
    "\n",
    "print(\"Accuracy score is %%%d.\" % accuracy_bc)"
   ]
  },
  {
   "cell_type": "code",
   "execution_count": 57,
   "metadata": {},
   "outputs": [
    {
     "data": {
      "text/plain": [
       "<Figure size 432x288 with 0 Axes>"
      ]
     },
     "metadata": {},
     "output_type": "display_data"
    },
    {
     "data": {
      "image/png": "[encoded data removed]",
      "text/plain": [
       "<Figure size 504x504 with 2 Axes>"
      ]
     },
     "metadata": {
      "needs_background": "light"
     },
     "output_type": "display_data"
    }
   ],
   "source": [
    "#Confusion matrix\n",
    "\n",
    "cm = confusion_matrix(y_test, prediction)\n",
    "\n",
    "plt.clf()\n",
    "\n",
    "fig=plt.figure(figsize=(7,7))\n",
    "\n",
    "cax=plt.imshow(cm, interpolation='nearest', cmap=\"Blues\")\n",
    "\n",
    "fig.colorbar(cax)\n",
    "\n",
    "classNames = [\"Not Churn\",\"Churn\"]\n",
    "\n",
    "plt.title('Confusion Matrix of \\n BaggingClassifier Classifier', pad=20, fontsize=20)\n",
    "\n",
    "plt.xlabel('Predicted', fontsize=15)\n",
    "plt.ylabel('Actual', fontsize=15)\n",
    "\n",
    "tick_marks = np.arange(len(classNames))\n",
    "\n",
    "plt.xticks(tick_marks, classNames, fontsize=12)\n",
    "plt.yticks(tick_marks, classNames, fontsize=12)\n",
    "\n",
    "s = [['TN','FP'], ['FN', 'TP']]\n",
    "\n",
    "for i in range(2):\n",
    "    for j in range(2):\n",
    "        plt.text(j,i, str(s[i][j])+\" = \"+str(cm[i][j]), horizontalalignment='center',verticalalignment='center',\n",
    "                 bbox=dict(facecolor='white'), fontsize=12)\n",
    "plt.show()\n"
   ]
  },
  {
   "cell_type": "code",
   "execution_count": 59,
   "metadata": {},
   "outputs": [
    {
     "name": "stdout",
     "output_type": "stream",
     "text": [
      "Precision score is 0.94.\n",
      "Recall score is 0.72.\n",
      "F1 score is 0.81.\n"
     ]
    }
   ],
   "source": [
    "#Calculate scores.\n",
    "\n",
    "print(\"Precision score is %.2f.\" % metrics.precision_score(y_test, prediction))\n",
    "print(\"Recall score is %.2f.\" % metrics.recall_score(y_test, prediction))\n",
    "print(\"F1 score is %.2f.\" % metrics.f1_score(y_test, prediction))"
   ]
  },
  {
   "cell_type": "code",
   "execution_count": 60,
   "metadata": {},
   "outputs": [
    {
     "data": {
      "image/png": "[encoded data removed]",
      "text/plain": [
       "<Figure size 432x288 with 1 Axes>"
      ]
     },
     "metadata": {
      "needs_background": "light"
     },
     "output_type": "display_data"
    }
   ],
   "source": [
    "#Plot the precision-recall curve for the model\n",
    "\n",
    "plt.plot([0, 1], [0.5, 0.5], linestyle='--')\n",
    "precision, recall, thresholds = precision_recall_curve(y_test, prediction)\n",
    "plt.plot(recall, precision, marker='.')\n",
    "plt.title(\"Precision-Recall Curve\", pad=20, fontsize=20)\n",
    "plt.show()\n"
   ]
  },
  {
   "cell_type": "code",
   "execution_count": 61,
   "metadata": {},
   "outputs": [
    {
     "name": "stdout",
     "output_type": "stream",
     "text": [
      "AUC: 0.84\n"
     ]
    }
   ],
   "source": [
    "#Calculate AUC value\n",
    "\n",
    "false_positive_rate, true_positive_rate, thresholds = roc_curve(y_test, prediction)\n",
    "roc_auc = auc(false_positive_rate, true_positive_rate)\n",
    "\n",
    "print('AUC: %.2f' % roc_auc)"
   ]
  },
  {
   "cell_type": "code",
   "execution_count": 62,
   "metadata": {},
   "outputs": [
    {
     "data": {
      "image/png": "[encoded data removed]",
      "text/plain": [
       "<Figure size 432x288 with 1 Axes>"
      ]
     },
     "metadata": {
      "needs_background": "light"
     },
     "output_type": "display_data"
    }
   ],
   "source": [
    "#Plot the ROC curve for the model\n",
    "\n",
    "plt.plot([0, 1], [0, 1], linestyle='--')\n",
    "plt.plot(false_positive_rate, true_positive_rate, marker='.')\n",
    "plt.title(\"ROC Curve\", pad=20, fontsize=20)\n",
    "plt.show()"
   ]
  },
  {
   "cell_type": "code",
   "execution_count": 65,
   "metadata": {},
   "outputs": [],
   "source": [
    "#Set up AdaBoostClassifier model in order to classify churn customers.  \n",
    "from sklearn.ensemble import AdaBoostClassifier"
   ]
  },
  {
   "cell_type": "code",
   "execution_count": 66,
   "metadata": {},
   "outputs": [],
   "source": [
    "# Fitting the BaggingClassifier to the Training set\n",
    "model_ab = AdaBoostClassifier(n_estimators=100, random_state=0)\n",
    "result = model_ab.fit(x_train, y_train)"
   ]
  },
  {
   "cell_type": "code",
   "execution_count": 67,
   "metadata": {},
   "outputs": [
    {
     "name": "stdout",
     "output_type": "stream",
     "text": [
      "Cross validation scores: [0.89330172 0.90160047 0.88974511 0.8831554  0.89798339 0.89916963\n",
      " 0.88849348 0.89501779 0.89976275 0.89198813]\n",
      "Average of scores: %89\n"
     ]
    }
   ],
   "source": [
    "#Cross validation \n",
    "\n",
    "cv = KFold(n_splits=10, shuffle=False, random_state=42)\n",
    "\n",
    "for train_index, test_index in cv.split(sample_train_data):\n",
    "    cv_x_train, cv_x_test = x_train[train_index], x_train[test_index]\n",
    "    cv_y_train, cv_y_test = y_train[train_index], y_train[test_index]\n",
    "    \n",
    "cv_scores = cross_val_score(model_ab, x_train, y_train, cv=10)\n",
    "    \n",
    "print(\"Cross validation scores:\", cv_scores)\n",
    "print(\"Average of scores: %%%d\" % (np.mean(cv_scores*100)))"
   ]
  },
  {
   "cell_type": "code",
   "execution_count": 68,
   "metadata": {},
   "outputs": [
    {
     "name": "stdout",
     "output_type": "stream",
     "text": [
      "Accuracy score is %87.\n"
     ]
    }
   ],
   "source": [
    "#Test model and calculate accuracy.\n",
    "\n",
    "prediction = model_ab.predict(x_test)\n",
    "\n",
    "#Accuracy score is %86 which is an acceptable score.\n",
    "\n",
    "accuracy_ab = metrics.accuracy_score(y_test, prediction)*100\n",
    "\n",
    "print(\"Accuracy score is %%%d.\" % accuracy_ab)"
   ]
  },
  {
   "cell_type": "code",
   "execution_count": 69,
   "metadata": {},
   "outputs": [
    {
     "data": {
      "text/plain": [
       "<Figure size 432x288 with 0 Axes>"
      ]
     },
     "metadata": {},
     "output_type": "display_data"
    },
    {
     "data": {
      "image/png": "[encoded data removed]",
      "text/plain": [
       "<Figure size 504x504 with 2 Axes>"
      ]
     },
     "metadata": {
      "needs_background": "light"
     },
     "output_type": "display_data"
    }
   ],
   "source": [
    "#Confusion matrix\n",
    "\n",
    "cm = confusion_matrix(y_test, prediction)\n",
    "\n",
    "plt.clf()\n",
    "\n",
    "fig=plt.figure(figsize=(7,7))\n",
    "\n",
    "cax=plt.imshow(cm, interpolation='nearest', cmap=\"Blues\")\n",
    "\n",
    "fig.colorbar(cax)\n",
    "\n",
    "classNames = [\"Not Churn\",\"Churn\"]\n",
    "\n",
    "plt.title('Confusion Matrix of \\n BaggingClassifier Classifier', pad=20, fontsize=20)\n",
    "\n",
    "plt.xlabel('Predicted', fontsize=15)\n",
    "plt.ylabel('Actual', fontsize=15)\n",
    "\n",
    "tick_marks = np.arange(len(classNames))\n",
    "\n",
    "plt.xticks(tick_marks, classNames, fontsize=12)\n",
    "plt.yticks(tick_marks, classNames, fontsize=12)\n",
    "\n",
    "s = [['TN','FP'], ['FN', 'TP']]\n",
    "\n",
    "for i in range(2):\n",
    "    for j in range(2):\n",
    "        plt.text(j,i, str(s[i][j])+\" = \"+str(cm[i][j]), horizontalalignment='center',verticalalignment='center',\n",
    "                 bbox=dict(facecolor='white'), fontsize=12)\n",
    "plt.show()\n"
   ]
  },
  {
   "cell_type": "code",
   "execution_count": 70,
   "metadata": {},
   "outputs": [
    {
     "name": "stdout",
     "output_type": "stream",
     "text": [
      "Precision score is 0.95.\n",
      "Recall score is 0.74.\n",
      "F1 score is 0.83.\n"
     ]
    }
   ],
   "source": [
    "#Calculate scores.\n",
    "\n",
    "print(\"Precision score is %.2f.\" % metrics.precision_score(y_test, prediction))\n",
    "print(\"Recall score is %.2f.\" % metrics.recall_score(y_test, prediction))\n",
    "print(\"F1 score is %.2f.\" % metrics.f1_score(y_test, prediction))"
   ]
  },
  {
   "cell_type": "code",
   "execution_count": 71,
   "metadata": {},
   "outputs": [
    {
     "data": {
      "image/png": "[encoded data removed]",
      "text/plain": [
       "<Figure size 432x288 with 1 Axes>"
      ]
     },
     "metadata": {
      "needs_background": "light"
     },
     "output_type": "display_data"
    }
   ],
   "source": [
    "#Plot the precision-recall curve for the model\n",
    "\n",
    "plt.plot([0, 1], [0.5, 0.5], linestyle='--')\n",
    "precision, recall, thresholds = precision_recall_curve(y_test, prediction)\n",
    "plt.plot(recall, precision, marker='.')\n",
    "plt.title(\"Precision-Recall Curve\", pad=20, fontsize=20)\n",
    "plt.show()"
   ]
  },
  {
   "cell_type": "code",
   "execution_count": 72,
   "metadata": {},
   "outputs": [
    {
     "name": "stdout",
     "output_type": "stream",
     "text": [
      "AUC: 0.86\n"
     ]
    }
   ],
   "source": [
    "#Calculate AUC value\n",
    "\n",
    "false_positive_rate, true_positive_rate, thresholds = roc_curve(y_test, prediction)\n",
    "roc_auc = auc(false_positive_rate, true_positive_rate)\n",
    "\n",
    "print('AUC: %.2f' % roc_auc)"
   ]
  },
  {
   "cell_type": "code",
   "execution_count": 73,
   "metadata": {},
   "outputs": [
    {
     "data": {
      "image/png": "[encoded data removed]",
      "text/plain": [
       "<Figure size 432x288 with 1 Axes>"
      ]
     },
     "metadata": {
      "needs_background": "light"
     },
     "output_type": "display_data"
    }
   ],
   "source": [
    "#Plot the ROC curve for the model\n",
    "\n",
    "plt.plot([0, 1], [0, 1], linestyle='--')\n",
    "plt.plot(false_positive_rate, true_positive_rate, marker='.')\n",
    "plt.title(\"ROC Curve\", pad=20, fontsize=20)\n",
    "plt.show()"
   ]
  },
  {
   "cell_type": "code",
   "execution_count": 74,
   "metadata": {},
   "outputs": [
    {
     "data": {
      "text/html": [
       "<div>\n",
       "<style scoped>\n",
       "    .dataframe tbody tr th:only-of-type {\n",
       "        vertical-align: middle;\n",
       "    }\n",
       "\n",
       "    .dataframe tbody tr th {\n",
       "        vertical-align: top;\n",
       "    }\n",
       "\n",
       "    .dataframe thead th {\n",
       "        text-align: right;\n",
       "    }\n",
       "</style>\n",
       "<table border=\"1\" class=\"dataframe\">\n",
       "  <thead>\n",
       "    <tr style=\"text-align: right;\">\n",
       "      <th></th>\n",
       "      <th>Accuracy</th>\n",
       "    </tr>\n",
       "  </thead>\n",
       "  <tbody>\n",
       "    <tr>\n",
       "      <th>AdaBoostClassifier</th>\n",
       "      <td>87%</td>\n",
       "    </tr>\n",
       "    <tr>\n",
       "      <th>BaggingClassifier</th>\n",
       "      <td>86%</td>\n",
       "    </tr>\n",
       "    <tr>\n",
       "      <th>Random Forest</th>\n",
       "      <td>85%</td>\n",
       "    </tr>\n",
       "    <tr>\n",
       "      <th>Decision Tree</th>\n",
       "      <td>82%</td>\n",
       "    </tr>\n",
       "    <tr>\n",
       "      <th>Logistic Regression</th>\n",
       "      <td>74%</td>\n",
       "    </tr>\n",
       "  </tbody>\n",
       "</table>\n",
       "</div>"
      ],
      "text/plain": [
       "                    Accuracy\n",
       "AdaBoostClassifier       87%\n",
       "BaggingClassifier        86%\n",
       "Random Forest            85%\n",
       "Decision Tree            82%\n",
       "Logistic Regression      74%"
      ]
     },
     "execution_count": 74,
     "metadata": {},
     "output_type": "execute_result"
    }
   ],
   "source": [
    "model_list=[\"Logistic Regression\", \"Random Forest\", \"Decision Tree\",\"BaggingClassifier\",\"AdaBoostClassifier\"]\n",
    "accuracy_list = [accuracy_lr,  accuracy_rf,accuracy_dt, accuracy_bc,accuracy_ab]\n",
    "\n",
    "scores_df = pd.DataFrame()\n",
    "\n",
    "scores_df[\"Accuracy\"]=accuracy_list\n",
    "scores_df[\"Accuracy\"]=scores_df[\"Accuracy\"].map('{0:.0f}%'.format)\n",
    "scores_df.index=model_list\n",
    "\n",
    "scores_df.sort_values(by=[\"Accuracy\"], ascending=False)"
   ]
  },
  {
   "cell_type": "code",
   "execution_count": 89,
   "metadata": {},
   "outputs": [
    {
     "data": {
      "image/png": "[encoded data removed]",
      "text/plain": [
       "<Figure size 648x360 with 1 Axes>"
      ]
     },
     "metadata": {
      "needs_background": "light"
     },
     "output_type": "display_data"
    }
   ],
   "source": [
    "plt.figure(figsize=(9,5))\n",
    "plt.bar( np.arange(len(scores_df)), accuracy_list, align='center', color=[\"darkblue\", \"darkgreen\", \"darkorange\",\"darkred\"])\n",
    "plt.xticks(np.arange(len(scores_df)), scores_df.index)\n",
    "plt.ylim((0,100))\n",
    "plt.ylabel('Accuracy', fontsize=12)\n",
    "plt.title('Comparison of Performances', fontsize=15, pad=20)\n",
    "\n",
    "for i, v in enumerate(accuracy_list):\n",
    "    plt.text(i, v-10, scores_df[\"Accuracy\"][i], color='white', fontweight='bold', fontsize=15,\n",
    "             horizontalalignment='center', verticalalignment='center')\n",
    "\n",
    "plt.show()"
   ]
  },
  {
   "cell_type": "code",
   "execution_count": null,
   "metadata": {},
   "outputs": [],
   "source": []
  }
 ],
 "metadata": {
  "kernelspec": {
   "display_name": "Python 3",
   "language": "python",
   "name": "python3"
  },
  "language_info": {
   "codemirror_mode": {
    "name": "ipython",
    "version": 3
   },
   "file_extension": ".py",
   "mimetype": "text/x-python",
   "name": "python",
   "nbconvert_exporter": "python",
   "pygments_lexer": "ipython3",
   "version": "3.8.5"
  }
 },
 "nbformat": 4,
 "nbformat_minor": 2
}
